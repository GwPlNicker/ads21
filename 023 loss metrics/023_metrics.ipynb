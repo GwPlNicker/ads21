{
 "cells": [
  {
   "cell_type": "markdown",
   "id": "900740ce",
   "metadata": {
    "heading_collapsed": true
   },
   "source": [
    "# Импорт данных и зависимостей"
   ]
  },
  {
   "cell_type": "code",
   "execution_count": 1,
   "id": "a184f1a1",
   "metadata": {
    "hidden": true
   },
   "outputs": [
    {
     "name": "stdout",
     "output_type": "stream",
     "text": [
      "INFO:tensorflow:Enabling eager execution\n",
      "INFO:tensorflow:Enabling v2 tensorshape\n",
      "INFO:tensorflow:Enabling resource variables\n",
      "INFO:tensorflow:Enabling tensor equality\n",
      "INFO:tensorflow:Enabling control flow v2\n"
     ]
    }
   ],
   "source": [
    "import pandas as pd\n",
    "import numpy as np\n",
    "from sklearn.metrics import accuracy_score, confusion_matrix\n",
    "from sklearn.model_selection import StratifiedKFold, train_test_split\n",
    "from sklearn.preprocessing import StandardScaler\n",
    "import tensorflow.keras as keras\n",
    "import seaborn as sns\n",
    "import matplotlib.pyplot as plt\n",
    "\n",
    "%config InlineBackend.figure_format = 'retina' # для более четкой отрисовки графиков"
   ]
  },
  {
   "cell_type": "code",
   "execution_count": 2,
   "id": "8ddf441f",
   "metadata": {
    "hidden": true
   },
   "outputs": [
    {
     "data": {
      "text/html": [
       "<div>\n",
       "<style scoped>\n",
       "    .dataframe tbody tr th:only-of-type {\n",
       "        vertical-align: middle;\n",
       "    }\n",
       "\n",
       "    .dataframe tbody tr th {\n",
       "        vertical-align: top;\n",
       "    }\n",
       "\n",
       "    .dataframe thead th {\n",
       "        text-align: right;\n",
       "    }\n",
       "</style>\n",
       "<table border=\"1\" class=\"dataframe\">\n",
       "  <thead>\n",
       "    <tr style=\"text-align: right;\">\n",
       "      <th></th>\n",
       "      <th>0</th>\n",
       "      <th>1</th>\n",
       "      <th>2</th>\n",
       "      <th>3</th>\n",
       "      <th>4</th>\n",
       "      <th>5</th>\n",
       "      <th>6</th>\n",
       "      <th>7</th>\n",
       "      <th>8</th>\n",
       "      <th>9</th>\n",
       "      <th>10</th>\n",
       "      <th>11</th>\n",
       "      <th>12</th>\n",
       "      <th>13</th>\n",
       "      <th>14</th>\n",
       "      <th>15</th>\n",
       "    </tr>\n",
       "  </thead>\n",
       "  <tbody>\n",
       "    <tr>\n",
       "      <th>0</th>\n",
       "      <td>b</td>\n",
       "      <td>30.83</td>\n",
       "      <td>0.000</td>\n",
       "      <td>u</td>\n",
       "      <td>g</td>\n",
       "      <td>w</td>\n",
       "      <td>v</td>\n",
       "      <td>1.25</td>\n",
       "      <td>t</td>\n",
       "      <td>t</td>\n",
       "      <td>1</td>\n",
       "      <td>f</td>\n",
       "      <td>g</td>\n",
       "      <td>00202</td>\n",
       "      <td>0</td>\n",
       "      <td>+</td>\n",
       "    </tr>\n",
       "    <tr>\n",
       "      <th>1</th>\n",
       "      <td>a</td>\n",
       "      <td>58.67</td>\n",
       "      <td>4.460</td>\n",
       "      <td>u</td>\n",
       "      <td>g</td>\n",
       "      <td>q</td>\n",
       "      <td>h</td>\n",
       "      <td>3.04</td>\n",
       "      <td>t</td>\n",
       "      <td>t</td>\n",
       "      <td>6</td>\n",
       "      <td>f</td>\n",
       "      <td>g</td>\n",
       "      <td>00043</td>\n",
       "      <td>560</td>\n",
       "      <td>+</td>\n",
       "    </tr>\n",
       "    <tr>\n",
       "      <th>2</th>\n",
       "      <td>a</td>\n",
       "      <td>24.50</td>\n",
       "      <td>0.500</td>\n",
       "      <td>u</td>\n",
       "      <td>g</td>\n",
       "      <td>q</td>\n",
       "      <td>h</td>\n",
       "      <td>1.50</td>\n",
       "      <td>t</td>\n",
       "      <td>f</td>\n",
       "      <td>0</td>\n",
       "      <td>f</td>\n",
       "      <td>g</td>\n",
       "      <td>00280</td>\n",
       "      <td>824</td>\n",
       "      <td>+</td>\n",
       "    </tr>\n",
       "    <tr>\n",
       "      <th>3</th>\n",
       "      <td>b</td>\n",
       "      <td>27.83</td>\n",
       "      <td>1.540</td>\n",
       "      <td>u</td>\n",
       "      <td>g</td>\n",
       "      <td>w</td>\n",
       "      <td>v</td>\n",
       "      <td>3.75</td>\n",
       "      <td>t</td>\n",
       "      <td>t</td>\n",
       "      <td>5</td>\n",
       "      <td>t</td>\n",
       "      <td>g</td>\n",
       "      <td>00100</td>\n",
       "      <td>3</td>\n",
       "      <td>+</td>\n",
       "    </tr>\n",
       "    <tr>\n",
       "      <th>4</th>\n",
       "      <td>b</td>\n",
       "      <td>20.17</td>\n",
       "      <td>5.625</td>\n",
       "      <td>u</td>\n",
       "      <td>g</td>\n",
       "      <td>w</td>\n",
       "      <td>v</td>\n",
       "      <td>1.71</td>\n",
       "      <td>t</td>\n",
       "      <td>f</td>\n",
       "      <td>0</td>\n",
       "      <td>f</td>\n",
       "      <td>s</td>\n",
       "      <td>00120</td>\n",
       "      <td>0</td>\n",
       "      <td>+</td>\n",
       "    </tr>\n",
       "  </tbody>\n",
       "</table>\n",
       "</div>"
      ],
      "text/plain": [
       "  0      1      2  3  4  5  6     7  8  9   10 11 12     13   14 15\n",
       "0  b  30.83  0.000  u  g  w  v  1.25  t  t   1  f  g  00202    0  +\n",
       "1  a  58.67  4.460  u  g  q  h  3.04  t  t   6  f  g  00043  560  +\n",
       "2  a  24.50  0.500  u  g  q  h  1.50  t  f   0  f  g  00280  824  +\n",
       "3  b  27.83  1.540  u  g  w  v  3.75  t  t   5  t  g  00100    3  +\n",
       "4  b  20.17  5.625  u  g  w  v  1.71  t  f   0  f  s  00120    0  +"
      ]
     },
     "execution_count": 2,
     "metadata": {},
     "output_type": "execute_result"
    }
   ],
   "source": [
    "ds = pd.read_csv('credit_data.csv', header=None) # загружаем данные\n",
    "ds.head()"
   ]
  },
  {
   "cell_type": "markdown",
   "id": "f38fafc0",
   "metadata": {
    "heading_collapsed": true
   },
   "source": [
    "# Анализ данных и препроцессинг"
   ]
  },
  {
   "cell_type": "code",
   "execution_count": 3,
   "id": "7f82cebb",
   "metadata": {
    "hidden": true
   },
   "outputs": [],
   "source": [
    "ds.columns = ['a_'+str(i) for i in range(ds.shape[1]-1)] + ['target'] # пронумеруем признаки и обозначим целевой признак\n",
    "ds['target'] = ds['target'].map({'+':1, '-':0}) # приведем целевую переменную к численному виду"
   ]
  },
  {
   "cell_type": "code",
   "execution_count": 4,
   "id": "1634df32",
   "metadata": {
    "hidden": true
   },
   "outputs": [
    {
     "data": {
      "text/html": [
       "<div>\n",
       "<style scoped>\n",
       "    .dataframe tbody tr th:only-of-type {\n",
       "        vertical-align: middle;\n",
       "    }\n",
       "\n",
       "    .dataframe tbody tr th {\n",
       "        vertical-align: top;\n",
       "    }\n",
       "\n",
       "    .dataframe thead th {\n",
       "        text-align: right;\n",
       "    }\n",
       "</style>\n",
       "<table border=\"1\" class=\"dataframe\">\n",
       "  <thead>\n",
       "    <tr style=\"text-align: right;\">\n",
       "      <th></th>\n",
       "      <th>a_0</th>\n",
       "      <th>a_1</th>\n",
       "      <th>a_2</th>\n",
       "      <th>a_3</th>\n",
       "      <th>a_4</th>\n",
       "      <th>a_5</th>\n",
       "      <th>a_6</th>\n",
       "      <th>a_7</th>\n",
       "      <th>a_8</th>\n",
       "      <th>a_9</th>\n",
       "      <th>a_10</th>\n",
       "      <th>a_11</th>\n",
       "      <th>a_12</th>\n",
       "      <th>a_13</th>\n",
       "      <th>a_14</th>\n",
       "      <th>target</th>\n",
       "    </tr>\n",
       "  </thead>\n",
       "  <tbody>\n",
       "    <tr>\n",
       "      <th>0</th>\n",
       "      <td>b</td>\n",
       "      <td>30.83</td>\n",
       "      <td>0.000</td>\n",
       "      <td>u</td>\n",
       "      <td>g</td>\n",
       "      <td>w</td>\n",
       "      <td>v</td>\n",
       "      <td>1.25</td>\n",
       "      <td>t</td>\n",
       "      <td>t</td>\n",
       "      <td>1</td>\n",
       "      <td>f</td>\n",
       "      <td>g</td>\n",
       "      <td>00202</td>\n",
       "      <td>0</td>\n",
       "      <td>1</td>\n",
       "    </tr>\n",
       "    <tr>\n",
       "      <th>1</th>\n",
       "      <td>a</td>\n",
       "      <td>58.67</td>\n",
       "      <td>4.460</td>\n",
       "      <td>u</td>\n",
       "      <td>g</td>\n",
       "      <td>q</td>\n",
       "      <td>h</td>\n",
       "      <td>3.04</td>\n",
       "      <td>t</td>\n",
       "      <td>t</td>\n",
       "      <td>6</td>\n",
       "      <td>f</td>\n",
       "      <td>g</td>\n",
       "      <td>00043</td>\n",
       "      <td>560</td>\n",
       "      <td>1</td>\n",
       "    </tr>\n",
       "    <tr>\n",
       "      <th>2</th>\n",
       "      <td>a</td>\n",
       "      <td>24.50</td>\n",
       "      <td>0.500</td>\n",
       "      <td>u</td>\n",
       "      <td>g</td>\n",
       "      <td>q</td>\n",
       "      <td>h</td>\n",
       "      <td>1.50</td>\n",
       "      <td>t</td>\n",
       "      <td>f</td>\n",
       "      <td>0</td>\n",
       "      <td>f</td>\n",
       "      <td>g</td>\n",
       "      <td>00280</td>\n",
       "      <td>824</td>\n",
       "      <td>1</td>\n",
       "    </tr>\n",
       "    <tr>\n",
       "      <th>3</th>\n",
       "      <td>b</td>\n",
       "      <td>27.83</td>\n",
       "      <td>1.540</td>\n",
       "      <td>u</td>\n",
       "      <td>g</td>\n",
       "      <td>w</td>\n",
       "      <td>v</td>\n",
       "      <td>3.75</td>\n",
       "      <td>t</td>\n",
       "      <td>t</td>\n",
       "      <td>5</td>\n",
       "      <td>t</td>\n",
       "      <td>g</td>\n",
       "      <td>00100</td>\n",
       "      <td>3</td>\n",
       "      <td>1</td>\n",
       "    </tr>\n",
       "    <tr>\n",
       "      <th>4</th>\n",
       "      <td>b</td>\n",
       "      <td>20.17</td>\n",
       "      <td>5.625</td>\n",
       "      <td>u</td>\n",
       "      <td>g</td>\n",
       "      <td>w</td>\n",
       "      <td>v</td>\n",
       "      <td>1.71</td>\n",
       "      <td>t</td>\n",
       "      <td>f</td>\n",
       "      <td>0</td>\n",
       "      <td>f</td>\n",
       "      <td>s</td>\n",
       "      <td>00120</td>\n",
       "      <td>0</td>\n",
       "      <td>1</td>\n",
       "    </tr>\n",
       "    <tr>\n",
       "      <th>...</th>\n",
       "      <td>...</td>\n",
       "      <td>...</td>\n",
       "      <td>...</td>\n",
       "      <td>...</td>\n",
       "      <td>...</td>\n",
       "      <td>...</td>\n",
       "      <td>...</td>\n",
       "      <td>...</td>\n",
       "      <td>...</td>\n",
       "      <td>...</td>\n",
       "      <td>...</td>\n",
       "      <td>...</td>\n",
       "      <td>...</td>\n",
       "      <td>...</td>\n",
       "      <td>...</td>\n",
       "      <td>...</td>\n",
       "    </tr>\n",
       "    <tr>\n",
       "      <th>685</th>\n",
       "      <td>b</td>\n",
       "      <td>21.08</td>\n",
       "      <td>10.085</td>\n",
       "      <td>y</td>\n",
       "      <td>p</td>\n",
       "      <td>e</td>\n",
       "      <td>h</td>\n",
       "      <td>1.25</td>\n",
       "      <td>f</td>\n",
       "      <td>f</td>\n",
       "      <td>0</td>\n",
       "      <td>f</td>\n",
       "      <td>g</td>\n",
       "      <td>00260</td>\n",
       "      <td>0</td>\n",
       "      <td>0</td>\n",
       "    </tr>\n",
       "    <tr>\n",
       "      <th>686</th>\n",
       "      <td>a</td>\n",
       "      <td>22.67</td>\n",
       "      <td>0.750</td>\n",
       "      <td>u</td>\n",
       "      <td>g</td>\n",
       "      <td>c</td>\n",
       "      <td>v</td>\n",
       "      <td>2.00</td>\n",
       "      <td>f</td>\n",
       "      <td>t</td>\n",
       "      <td>2</td>\n",
       "      <td>t</td>\n",
       "      <td>g</td>\n",
       "      <td>00200</td>\n",
       "      <td>394</td>\n",
       "      <td>0</td>\n",
       "    </tr>\n",
       "    <tr>\n",
       "      <th>687</th>\n",
       "      <td>a</td>\n",
       "      <td>25.25</td>\n",
       "      <td>13.500</td>\n",
       "      <td>y</td>\n",
       "      <td>p</td>\n",
       "      <td>ff</td>\n",
       "      <td>ff</td>\n",
       "      <td>2.00</td>\n",
       "      <td>f</td>\n",
       "      <td>t</td>\n",
       "      <td>1</td>\n",
       "      <td>t</td>\n",
       "      <td>g</td>\n",
       "      <td>00200</td>\n",
       "      <td>1</td>\n",
       "      <td>0</td>\n",
       "    </tr>\n",
       "    <tr>\n",
       "      <th>688</th>\n",
       "      <td>b</td>\n",
       "      <td>17.92</td>\n",
       "      <td>0.205</td>\n",
       "      <td>u</td>\n",
       "      <td>g</td>\n",
       "      <td>aa</td>\n",
       "      <td>v</td>\n",
       "      <td>0.04</td>\n",
       "      <td>f</td>\n",
       "      <td>f</td>\n",
       "      <td>0</td>\n",
       "      <td>f</td>\n",
       "      <td>g</td>\n",
       "      <td>00280</td>\n",
       "      <td>750</td>\n",
       "      <td>0</td>\n",
       "    </tr>\n",
       "    <tr>\n",
       "      <th>689</th>\n",
       "      <td>b</td>\n",
       "      <td>35.00</td>\n",
       "      <td>3.375</td>\n",
       "      <td>u</td>\n",
       "      <td>g</td>\n",
       "      <td>c</td>\n",
       "      <td>h</td>\n",
       "      <td>8.29</td>\n",
       "      <td>f</td>\n",
       "      <td>f</td>\n",
       "      <td>0</td>\n",
       "      <td>t</td>\n",
       "      <td>g</td>\n",
       "      <td>00000</td>\n",
       "      <td>0</td>\n",
       "      <td>0</td>\n",
       "    </tr>\n",
       "  </tbody>\n",
       "</table>\n",
       "<p>690 rows × 16 columns</p>\n",
       "</div>"
      ],
      "text/plain": [
       "    a_0    a_1     a_2 a_3 a_4 a_5 a_6   a_7 a_8 a_9  a_10 a_11 a_12   a_13  \\\n",
       "0     b  30.83   0.000   u   g   w   v  1.25   t   t     1    f    g  00202   \n",
       "1     a  58.67   4.460   u   g   q   h  3.04   t   t     6    f    g  00043   \n",
       "2     a  24.50   0.500   u   g   q   h  1.50   t   f     0    f    g  00280   \n",
       "3     b  27.83   1.540   u   g   w   v  3.75   t   t     5    t    g  00100   \n",
       "4     b  20.17   5.625   u   g   w   v  1.71   t   f     0    f    s  00120   \n",
       "..   ..    ...     ...  ..  ..  ..  ..   ...  ..  ..   ...  ...  ...    ...   \n",
       "685   b  21.08  10.085   y   p   e   h  1.25   f   f     0    f    g  00260   \n",
       "686   a  22.67   0.750   u   g   c   v  2.00   f   t     2    t    g  00200   \n",
       "687   a  25.25  13.500   y   p  ff  ff  2.00   f   t     1    t    g  00200   \n",
       "688   b  17.92   0.205   u   g  aa   v  0.04   f   f     0    f    g  00280   \n",
       "689   b  35.00   3.375   u   g   c   h  8.29   f   f     0    t    g  00000   \n",
       "\n",
       "     a_14  target  \n",
       "0       0       1  \n",
       "1     560       1  \n",
       "2     824       1  \n",
       "3       3       1  \n",
       "4       0       1  \n",
       "..    ...     ...  \n",
       "685     0       0  \n",
       "686   394       0  \n",
       "687     1       0  \n",
       "688   750       0  \n",
       "689     0       0  \n",
       "\n",
       "[690 rows x 16 columns]"
      ]
     },
     "execution_count": 4,
     "metadata": {},
     "output_type": "execute_result"
    }
   ],
   "source": [
    "ds # посмотри на датасет"
   ]
  },
  {
   "cell_type": "markdown",
   "id": "2283104b",
   "metadata": {
    "hidden": true
   },
   "source": [
    "Проведем краткий стандартный анализ датасета и подготовим его для применения алгоритмой машинного обучения:"
   ]
  },
  {
   "cell_type": "code",
   "execution_count": 5,
   "id": "2eabc9d7",
   "metadata": {
    "hidden": true
   },
   "outputs": [
    {
     "data": {
      "text/plain": [
       "a_0        object\n",
       "a_1        object\n",
       "a_2       float64\n",
       "a_3        object\n",
       "a_4        object\n",
       "a_5        object\n",
       "a_6        object\n",
       "a_7       float64\n",
       "a_8        object\n",
       "a_9        object\n",
       "a_10        int64\n",
       "a_11       object\n",
       "a_12       object\n",
       "a_13       object\n",
       "a_14        int64\n",
       "target      int64\n",
       "dtype: object"
      ]
     },
     "execution_count": 5,
     "metadata": {},
     "output_type": "execute_result"
    }
   ],
   "source": [
    "ds.dtypes"
   ]
  },
  {
   "cell_type": "markdown",
   "id": "96957703",
   "metadata": {
    "hidden": true
   },
   "source": [
    "Кажется, что признаки 'a_1' и 'a_13' должны быть также числовыми - приведем их к этому виду:"
   ]
  },
  {
   "cell_type": "code",
   "execution_count": 6,
   "id": "da320a3a",
   "metadata": {
    "hidden": true
   },
   "outputs": [],
   "source": [
    "ds['a_1'] = pd.to_numeric(ds['a_1'], errors='coerce')\n",
    "ds['a_13'] = pd.to_numeric(ds['a_13'], errors='coerce')"
   ]
  },
  {
   "cell_type": "code",
   "execution_count": 7,
   "id": "5b18ffc8",
   "metadata": {
    "hidden": true
   },
   "outputs": [],
   "source": [
    "num_cols = ds.drop('target', axis=1).select_dtypes(exclude='O').columns"
   ]
  },
  {
   "cell_type": "code",
   "execution_count": 8,
   "id": "798df8d7",
   "metadata": {
    "hidden": true
   },
   "outputs": [
    {
     "data": {
      "text/plain": [
       "0    383\n",
       "1    307\n",
       "Name: target, dtype: int64"
      ]
     },
     "execution_count": 8,
     "metadata": {},
     "output_type": "execute_result"
    }
   ],
   "source": [
    "ds['target'].value_counts() # --> датасет сбаллансированный"
   ]
  },
  {
   "cell_type": "code",
   "execution_count": 9,
   "id": "0972cb66",
   "metadata": {
    "hidden": true
   },
   "outputs": [],
   "source": [
    "ds = pd.get_dummies(ds) # закодируем категориальные признаки"
   ]
  },
  {
   "cell_type": "code",
   "execution_count": 10,
   "id": "f203ca9d",
   "metadata": {
    "hidden": true
   },
   "outputs": [],
   "source": [
    "ds['a_1'].fillna(ds['a_1'].median(), inplace=True) # заполним пропуски медианными значениями\n",
    "ds['a_13'].fillna(ds['a_1'].median(), inplace=True)"
   ]
  },
  {
   "cell_type": "code",
   "execution_count": 11,
   "id": "b26f092c",
   "metadata": {
    "hidden": true
   },
   "outputs": [],
   "source": [
    "scl = StandardScaler() \n",
    "ds_scl = ds.copy()\n",
    "ds_scl[num_cols] = scl.fit_transform(ds[num_cols]) # масштабируем данные"
   ]
  },
  {
   "cell_type": "code",
   "execution_count": 12,
   "id": "9dc6196a",
   "metadata": {
    "hidden": true
   },
   "outputs": [],
   "source": [
    "X = ds_scl \n",
    "y = X.pop('target') # выделим целевой признак"
   ]
  },
  {
   "cell_type": "markdown",
   "id": "398b6d7e",
   "metadata": {
    "heading_collapsed": true
   },
   "source": [
    "# Модель"
   ]
  },
  {
   "cell_type": "code",
   "execution_count": 13,
   "id": "199ed669",
   "metadata": {
    "hidden": true
   },
   "outputs": [],
   "source": [
    "def train_model(loss, optimizer, dropout=None):\n",
    "    input_ = keras.layers.Input(shape=(X.shape[1],)) # входной слой\n",
    "    x = keras.layers.Dense(200, activation='relu')(input_) # полносвязный слой\n",
    "    if dropout:\n",
    "        x = keras.layers.Dropout(dropout)(x) # слой для регуляризации\n",
    "    x = keras.layers.Dense(100, activation='relu')(x) # полносвязный слой\n",
    "    if dropout:\n",
    "        x = keras.layers.Dropout(dropout)(x) # слой для регуляризации\n",
    "    x = keras.layers.Dense(50, activation='relu')(x) # полносвязный слой\n",
    "    output_ = keras.layers.Dense(1, activation='sigmoid')(x) # выходной слой\n",
    "\n",
    "    model = keras.models.Model(input_, output_) # определем вход и выход моедли\n",
    "\n",
    "    model.compile(loss = loss, # определяем метрики и алгоритм оптимизации\n",
    "                  optimizer = optimizer,\n",
    "                  metrics = ['accuracy']\n",
    "                 )\n",
    "    history = model.fit(X, \n",
    "                    y, \n",
    "                    epochs=50, \n",
    "                    batch_size=32, \n",
    "                    validation_split=0.2,\n",
    "                    callbacks= [early_stop, reduce_lr]\n",
    "                   ) # сохраняем историю тренировки\n",
    "    return history"
   ]
  },
  {
   "cell_type": "code",
   "execution_count": 14,
   "id": "bf311294",
   "metadata": {
    "hidden": true
   },
   "outputs": [],
   "source": [
    "optimizers = ['adam', 'sgd', 'rmsprop', 'adagrad'] # популярные алгоритмы оптимизации\n",
    "losses = ['binary_crossentropy', 'hinge', 'squared_hinge'] # метрики потерь для бинарной классификации\n",
    "early_stop = keras.callbacks.EarlyStopping(monitor='val_loss', patience=10) # раннее прекращение для борьбы с переобучением\n",
    "reduce_lr = keras.callbacks.ReduceLROnPlateau(monitor='val_loss', \n",
    "                                              factor=0.25, \n",
    "                                              patience=5, \n",
    "                                              verbose=1) # редактирование скорости обучения для лучшей тренировки модели\n"
   ]
  },
  {
   "cell_type": "code",
   "execution_count": 15,
   "id": "21a2e8a4",
   "metadata": {
    "hidden": true,
    "scrolled": true
   },
   "outputs": [
    {
     "name": "stdout",
     "output_type": "stream",
     "text": [
      "Epoch 1/50\n",
      "18/18 [==============================] - 1s 10ms/step - loss: 0.6402 - accuracy: 0.6405 - val_loss: 0.4334 - val_accuracy: 0.8841\n",
      "Epoch 2/50\n",
      "18/18 [==============================] - 0s 2ms/step - loss: 0.3792 - accuracy: 0.8698 - val_loss: 0.2910 - val_accuracy: 0.8841\n",
      "Epoch 3/50\n",
      "18/18 [==============================] - 0s 2ms/step - loss: 0.3124 - accuracy: 0.8657 - val_loss: 0.2722 - val_accuracy: 0.9058\n",
      "Epoch 4/50\n",
      "18/18 [==============================] - 0s 2ms/step - loss: 0.2716 - accuracy: 0.8841 - val_loss: 0.2727 - val_accuracy: 0.9130\n",
      "Epoch 5/50\n",
      "18/18 [==============================] - 0s 2ms/step - loss: 0.2774 - accuracy: 0.9027 - val_loss: 0.2937 - val_accuracy: 0.8986\n",
      "Epoch 6/50\n",
      "18/18 [==============================] - 0s 2ms/step - loss: 0.2554 - accuracy: 0.9123 - val_loss: 0.3230 - val_accuracy: 0.8841\n",
      "Epoch 7/50\n",
      "18/18 [==============================] - 0s 2ms/step - loss: 0.2682 - accuracy: 0.8985 - val_loss: 0.3084 - val_accuracy: 0.8913\n",
      "Epoch 8/50\n",
      "18/18 [==============================] - 0s 2ms/step - loss: 0.2317 - accuracy: 0.9119 - val_loss: 0.2678 - val_accuracy: 0.8986\n",
      "Epoch 9/50\n",
      "18/18 [==============================] - 0s 2ms/step - loss: 0.2011 - accuracy: 0.9162 - val_loss: 0.2770 - val_accuracy: 0.8986\n",
      "Epoch 10/50\n",
      "18/18 [==============================] - 0s 2ms/step - loss: 0.1754 - accuracy: 0.9437 - val_loss: 0.3122 - val_accuracy: 0.8913\n",
      "Epoch 11/50\n",
      "18/18 [==============================] - 0s 2ms/step - loss: 0.1814 - accuracy: 0.9333 - val_loss: 0.2916 - val_accuracy: 0.8986\n",
      "Epoch 12/50\n",
      "18/18 [==============================] - 0s 2ms/step - loss: 0.1316 - accuracy: 0.9556 - val_loss: 0.2897 - val_accuracy: 0.9130\n",
      "Epoch 13/50\n",
      "18/18 [==============================] - 0s 2ms/step - loss: 0.1198 - accuracy: 0.9649 - val_loss: 0.3373 - val_accuracy: 0.8986\n",
      "\n",
      "Epoch 00013: ReduceLROnPlateau reducing learning rate to 0.0002500000118743628.\n",
      "Epoch 14/50\n",
      "18/18 [==============================] - 0s 2ms/step - loss: 0.1124 - accuracy: 0.9650 - val_loss: 0.3260 - val_accuracy: 0.8986\n",
      "Epoch 15/50\n",
      "18/18 [==============================] - 0s 2ms/step - loss: 0.1136 - accuracy: 0.9588 - val_loss: 0.3356 - val_accuracy: 0.8841\n",
      "Epoch 16/50\n",
      "18/18 [==============================] - 0s 2ms/step - loss: 0.0920 - accuracy: 0.9781 - val_loss: 0.3279 - val_accuracy: 0.9058\n",
      "Epoch 17/50\n",
      "18/18 [==============================] - 0s 2ms/step - loss: 0.1004 - accuracy: 0.9712 - val_loss: 0.3426 - val_accuracy: 0.8913\n",
      "Epoch 18/50\n",
      "18/18 [==============================] - 0s 2ms/step - loss: 0.1015 - accuracy: 0.9708 - val_loss: 0.3325 - val_accuracy: 0.8913\n",
      "\n",
      "Epoch 00018: ReduceLROnPlateau reducing learning rate to 6.25000029685907e-05.\n"
     ]
    }
   ],
   "source": [
    "train_1 = train_model('binary_crossentropy', 'adam')"
   ]
  },
  {
   "cell_type": "code",
   "execution_count": 16,
   "id": "1c6ef972",
   "metadata": {
    "hidden": true
   },
   "outputs": [
    {
     "data": {
      "image/png": "[encoded data removed]",
      "text/plain": [
       "<Figure size 432x288 with 1 Axes>"
      ]
     },
     "metadata": {
      "image/png": {
       "height": 248,
       "width": 376
      },
      "needs_background": "light"
     },
     "output_type": "display_data"
    }
   ],
   "source": [
    "pd.DataFrame(train_1.history).iloc[:, :4].plot();"
   ]
  },
  {
   "cell_type": "code",
   "execution_count": 17,
   "id": "a90fb935",
   "metadata": {
    "hidden": true,
    "scrolled": true
   },
   "outputs": [
    {
     "name": "stdout",
     "output_type": "stream",
     "text": [
      "Epoch 1/50\n",
      "18/18 [==============================] - 0s 7ms/step - loss: 0.6628 - accuracy: 0.5876 - val_loss: 0.5113 - val_accuracy: 0.8406\n",
      "Epoch 2/50\n",
      "18/18 [==============================] - 0s 2ms/step - loss: 0.5469 - accuracy: 0.7572 - val_loss: 0.3777 - val_accuracy: 0.8913\n",
      "Epoch 3/50\n",
      "18/18 [==============================] - 0s 2ms/step - loss: 0.4446 - accuracy: 0.8276 - val_loss: 0.3215 - val_accuracy: 0.8913\n",
      "Epoch 4/50\n",
      "18/18 [==============================] - 0s 2ms/step - loss: 0.3830 - accuracy: 0.8540 - val_loss: 0.2955 - val_accuracy: 0.8841\n",
      "Epoch 5/50\n",
      "18/18 [==============================] - 0s 2ms/step - loss: 0.3868 - accuracy: 0.8420 - val_loss: 0.2892 - val_accuracy: 0.8841\n",
      "Epoch 6/50\n",
      "18/18 [==============================] - 0s 2ms/step - loss: 0.3726 - accuracy: 0.8577 - val_loss: 0.2781 - val_accuracy: 0.8841\n",
      "Epoch 7/50\n",
      "18/18 [==============================] - 0s 2ms/step - loss: 0.3719 - accuracy: 0.8537 - val_loss: 0.2860 - val_accuracy: 0.8913\n",
      "Epoch 8/50\n",
      "18/18 [==============================] - 0s 2ms/step - loss: 0.3756 - accuracy: 0.8371 - val_loss: 0.2644 - val_accuracy: 0.9058\n",
      "Epoch 9/50\n",
      "18/18 [==============================] - 0s 2ms/step - loss: 0.2814 - accuracy: 0.8927 - val_loss: 0.2742 - val_accuracy: 0.8913\n",
      "Epoch 10/50\n",
      "18/18 [==============================] - 0s 2ms/step - loss: 0.3356 - accuracy: 0.8844 - val_loss: 0.2641 - val_accuracy: 0.9130\n",
      "Epoch 11/50\n",
      "18/18 [==============================] - 0s 2ms/step - loss: 0.2980 - accuracy: 0.8711 - val_loss: 0.2796 - val_accuracy: 0.9058\n",
      "Epoch 12/50\n",
      "18/18 [==============================] - 0s 2ms/step - loss: 0.2861 - accuracy: 0.8948 - val_loss: 0.2627 - val_accuracy: 0.9058\n",
      "Epoch 13/50\n",
      "18/18 [==============================] - 0s 2ms/step - loss: 0.2824 - accuracy: 0.8965 - val_loss: 0.2708 - val_accuracy: 0.9058\n",
      "Epoch 14/50\n",
      "18/18 [==============================] - 0s 2ms/step - loss: 0.2956 - accuracy: 0.8746 - val_loss: 0.2530 - val_accuracy: 0.9130\n",
      "Epoch 15/50\n",
      "18/18 [==============================] - 0s 2ms/step - loss: 0.2653 - accuracy: 0.8917 - val_loss: 0.2526 - val_accuracy: 0.9058\n",
      "Epoch 16/50\n",
      "18/18 [==============================] - 0s 2ms/step - loss: 0.2996 - accuracy: 0.8742 - val_loss: 0.2597 - val_accuracy: 0.9058\n",
      "Epoch 17/50\n",
      "18/18 [==============================] - 0s 2ms/step - loss: 0.2845 - accuracy: 0.8825 - val_loss: 0.2576 - val_accuracy: 0.9130\n",
      "Epoch 18/50\n",
      "18/18 [==============================] - 0s 2ms/step - loss: 0.2829 - accuracy: 0.8720 - val_loss: 0.2626 - val_accuracy: 0.9130\n",
      "Epoch 19/50\n",
      "18/18 [==============================] - 0s 2ms/step - loss: 0.2532 - accuracy: 0.9096 - val_loss: 0.2606 - val_accuracy: 0.9130\n",
      "Epoch 20/50\n",
      "18/18 [==============================] - 0s 2ms/step - loss: 0.2870 - accuracy: 0.8803 - val_loss: 0.2641 - val_accuracy: 0.9130\n",
      "\n",
      "Epoch 00020: ReduceLROnPlateau reducing learning rate to 0.0002500000118743628.\n",
      "Epoch 21/50\n",
      "18/18 [==============================] - 0s 2ms/step - loss: 0.2884 - accuracy: 0.8825 - val_loss: 0.2603 - val_accuracy: 0.9130\n",
      "Epoch 22/50\n",
      "18/18 [==============================] - 0s 2ms/step - loss: 0.2565 - accuracy: 0.8928 - val_loss: 0.2633 - val_accuracy: 0.9130\n",
      "Epoch 23/50\n",
      "18/18 [==============================] - 0s 2ms/step - loss: 0.2357 - accuracy: 0.8993 - val_loss: 0.2642 - val_accuracy: 0.9130\n",
      "Epoch 24/50\n",
      "18/18 [==============================] - 0s 2ms/step - loss: 0.2404 - accuracy: 0.9197 - val_loss: 0.2643 - val_accuracy: 0.9130\n",
      "Epoch 25/50\n",
      "18/18 [==============================] - 0s 2ms/step - loss: 0.1968 - accuracy: 0.9259 - val_loss: 0.2655 - val_accuracy: 0.9130\n",
      "\n",
      "Epoch 00025: ReduceLROnPlateau reducing learning rate to 6.25000029685907e-05.\n"
     ]
    }
   ],
   "source": [
    "train_2 = train_model('binary_crossentropy', 'adam', dropout=0.5) # добавим слои для регуляризации"
   ]
  },
  {
   "cell_type": "code",
   "execution_count": 18,
   "id": "61b8af2b",
   "metadata": {
    "hidden": true
   },
   "outputs": [
    {
     "data": {
      "image/png": "[encoded data removed]",
      "text/plain": [
       "<Figure size 432x288 with 1 Axes>"
      ]
     },
     "metadata": {
      "image/png": {
       "height": 248,
       "width": 375
      },
      "needs_background": "light"
     },
     "output_type": "display_data"
    }
   ],
   "source": [
    "pd.DataFrame(train_2.history).iloc[:, :4].plot();"
   ]
  },
  {
   "cell_type": "code",
   "execution_count": 19,
   "id": "a05df62e",
   "metadata": {
    "hidden": true,
    "scrolled": true
   },
   "outputs": [
    {
     "name": "stdout",
     "output_type": "stream",
     "text": [
      "Epoch 1/50\n",
      "18/18 [==============================] - 1s 8ms/step - loss: 1.0112 - accuracy: 0.6092 - val_loss: 0.9174 - val_accuracy: 0.8261\n",
      "Epoch 2/50\n",
      "18/18 [==============================] - 0s 2ms/step - loss: 0.8595 - accuracy: 0.7909 - val_loss: 0.7919 - val_accuracy: 0.8986\n",
      "Epoch 3/50\n",
      "18/18 [==============================] - 0s 2ms/step - loss: 0.7596 - accuracy: 0.8337 - val_loss: 0.7553 - val_accuracy: 0.8986\n",
      "Epoch 4/50\n",
      "18/18 [==============================] - 0s 2ms/step - loss: 0.7445 - accuracy: 0.8380 - val_loss: 0.7409 - val_accuracy: 0.8986\n",
      "Epoch 5/50\n",
      "18/18 [==============================] - 0s 2ms/step - loss: 0.7119 - accuracy: 0.8564 - val_loss: 0.7302 - val_accuracy: 0.9130\n",
      "Epoch 6/50\n",
      "18/18 [==============================] - 0s 2ms/step - loss: 0.6732 - accuracy: 0.8606 - val_loss: 0.7300 - val_accuracy: 0.8986\n",
      "Epoch 7/50\n",
      "18/18 [==============================] - 0s 2ms/step - loss: 0.7287 - accuracy: 0.8283 - val_loss: 0.7210 - val_accuracy: 0.9058\n",
      "Epoch 8/50\n",
      "18/18 [==============================] - 0s 2ms/step - loss: 0.6241 - accuracy: 0.8702 - val_loss: 0.7308 - val_accuracy: 0.8913\n",
      "Epoch 9/50\n",
      "18/18 [==============================] - 0s 2ms/step - loss: 0.6845 - accuracy: 0.8657 - val_loss: 0.7229 - val_accuracy: 0.8986\n",
      "Epoch 10/50\n",
      "18/18 [==============================] - 0s 2ms/step - loss: 0.6775 - accuracy: 0.8701 - val_loss: 0.7256 - val_accuracy: 0.8986\n",
      "Epoch 11/50\n",
      "18/18 [==============================] - 0s 2ms/step - loss: 0.6716 - accuracy: 0.8722 - val_loss: 0.7237 - val_accuracy: 0.8986\n",
      "Epoch 12/50\n",
      "18/18 [==============================] - 0s 2ms/step - loss: 0.6763 - accuracy: 0.8588 - val_loss: 0.7230 - val_accuracy: 0.9058\n",
      "\n",
      "Epoch 00012: ReduceLROnPlateau reducing learning rate to 0.0002500000118743628.\n",
      "Epoch 13/50\n",
      "18/18 [==============================] - 0s 2ms/step - loss: 0.6882 - accuracy: 0.8645 - val_loss: 0.7238 - val_accuracy: 0.9058\n",
      "Epoch 14/50\n",
      "18/18 [==============================] - 0s 2ms/step - loss: 0.7019 - accuracy: 0.8593 - val_loss: 0.7233 - val_accuracy: 0.9058\n",
      "Epoch 15/50\n",
      "18/18 [==============================] - 0s 2ms/step - loss: 0.6716 - accuracy: 0.8689 - val_loss: 0.7242 - val_accuracy: 0.9058\n",
      "Epoch 16/50\n",
      "18/18 [==============================] - 0s 2ms/step - loss: 0.6922 - accuracy: 0.8775 - val_loss: 0.7236 - val_accuracy: 0.9058\n",
      "Epoch 17/50\n",
      "18/18 [==============================] - 0s 2ms/step - loss: 0.6482 - accuracy: 0.8894 - val_loss: 0.7238 - val_accuracy: 0.9058\n",
      "\n",
      "Epoch 00017: ReduceLROnPlateau reducing learning rate to 6.25000029685907e-05.\n"
     ]
    }
   ],
   "source": [
    "train_3 = train_model('hinge', 'rmsprop', dropout=0.5) # попробуем другой оптимизатор и функцию потерь"
   ]
  },
  {
   "cell_type": "code",
   "execution_count": 20,
   "id": "a0dfd775",
   "metadata": {
    "hidden": true
   },
   "outputs": [
    {
     "data": {
      "image/png": "[encoded data removed]",
      "text/plain": [
       "<Figure size 432x288 with 1 Axes>"
      ]
     },
     "metadata": {
      "image/png": {
       "height": 248,
       "width": 378
      },
      "needs_background": "light"
     },
     "output_type": "display_data"
    }
   ],
   "source": [
    "pd.DataFrame(train_3.history).iloc[:, :4].plot();"
   ]
  },
  {
   "cell_type": "code",
   "execution_count": null,
   "id": "45c6710c",
   "metadata": {
    "hidden": true
   },
   "outputs": [],
   "source": []
  }
 ],
 "metadata": {
  "kernelspec": {
   "display_name": "Python 3",
   "language": "python",
   "name": "python3"
  },
  "language_info": {
   "codemirror_mode": {
    "name": "ipython",
    "version": 3
   },
   "file_extension": ".py",
   "mimetype": "text/x-python",
   "name": "python",
   "nbconvert_exporter": "python",
   "pygments_lexer": "ipython3",
   "version": "3.9.4"
  }
 },
 "nbformat": 4,
 "nbformat_minor": 5
}
