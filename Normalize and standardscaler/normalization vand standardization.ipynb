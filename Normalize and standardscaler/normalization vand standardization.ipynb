{
 "cells": [
  {
   "cell_type": "markdown",
   "id": "9c0f1db7",
   "metadata": {},
   "source": [
    "# 6.3 Нормализация и стандартизация данных"
   ]
  },
  {
   "cell_type": "code",
   "execution_count": 1,
   "id": "0df0f542",
   "metadata": {},
   "outputs": [],
   "source": [
    "import pandas as pd\n",
    "import numpy as np\n",
    "import matplotlib.pyplot as plt\n",
    "import seaborn as sns\n",
    "\n",
    "from sklearn.preprocessing import StandardScaler, MinMaxScaler, RobustScaler, PowerTransformer\n",
    "from scipy.stats import shapiro\n",
    "import statsmodels.api as sm\n",
    "\n",
    "%config InlineBackend.figure_format = 'retina' # для более четкой отрисовки графиков"
   ]
  },
  {
   "cell_type": "code",
   "execution_count": 2,
   "id": "ebcbceb0",
   "metadata": {},
   "outputs": [
    {
     "name": "stdout",
     "output_type": "stream",
     "text": [
      "Размер загруженного датасета: (11746, 60)\n"
     ]
    }
   ],
   "source": [
    "ds = pd.read_csv('Energy_and_Water_Data_Disclosure.csv') # https://www1.nyc.gov/html/gbee/html/plan/ll84_scores.shtml\n",
    "print('Размер загруженного датасета: {}'.format(ds.shape))"
   ]
  },
  {
   "cell_type": "markdown",
   "id": "8117f738",
   "metadata": {},
   "source": [
    "Для ускорения вычислений создадим подвыборку из 2000 случайных элементов из исходного датасета и продолжим работать только с ними:"
   ]
  },
  {
   "cell_type": "code",
   "execution_count": 3,
   "id": "924d41b1",
   "metadata": {},
   "outputs": [],
   "source": [
    "n_rand = np.random.randint(0, len(ds), 2000) # выберем 2000 случайных элементов из датасета\n",
    "ds = ds.iloc[n_rand]"
   ]
  },
  {
   "cell_type": "markdown",
   "id": "4811ce2b",
   "metadata": {},
   "source": [
    "Начнем как обычно с подготовки данных как было показано в разделе 6.1:"
   ]
  },
  {
   "cell_type": "code",
   "execution_count": 4,
   "id": "0d4498c0",
   "metadata": {},
   "outputs": [
    {
     "data": {
      "text/html": [
       "<div>\n",
       "<style scoped>\n",
       "    .dataframe tbody tr th:only-of-type {\n",
       "        vertical-align: middle;\n",
       "    }\n",
       "\n",
       "    .dataframe tbody tr th {\n",
       "        vertical-align: top;\n",
       "    }\n",
       "\n",
       "    .dataframe thead th {\n",
       "        text-align: right;\n",
       "    }\n",
       "</style>\n",
       "<table border=\"1\" class=\"dataframe\">\n",
       "  <thead>\n",
       "    <tr style=\"text-align: right;\">\n",
       "      <th></th>\n",
       "      <th>Order</th>\n",
       "      <th>Property Id</th>\n",
       "      <th>Property Name</th>\n",
       "      <th>Parent Property Id</th>\n",
       "      <th>Parent Property Name</th>\n",
       "      <th>BBL - 10 digits</th>\n",
       "      <th>NYC Borough, Block and Lot (BBL) self-reported</th>\n",
       "      <th>NYC Building Identification Number (BIN)</th>\n",
       "      <th>Address 1 (self-reported)</th>\n",
       "      <th>Address 2</th>\n",
       "      <th>...</th>\n",
       "      <th>Source EUI (kBtu/ft²)</th>\n",
       "      <th>Release Date</th>\n",
       "      <th>Water Required?</th>\n",
       "      <th>DOF Benchmarking Submission Status</th>\n",
       "      <th>Latitude</th>\n",
       "      <th>Longitude</th>\n",
       "      <th>Community Board</th>\n",
       "      <th>Council District</th>\n",
       "      <th>Census Tract</th>\n",
       "      <th>NTA</th>\n",
       "    </tr>\n",
       "  </thead>\n",
       "  <tbody>\n",
       "    <tr>\n",
       "      <th>174</th>\n",
       "      <td>185</td>\n",
       "      <td>5070488</td>\n",
       "      <td>Chase</td>\n",
       "      <td>4092487</td>\n",
       "      <td>Bay Plaza Community Center, LLC</td>\n",
       "      <td>2051410810</td>\n",
       "      <td>2-05141-0810</td>\n",
       "      <td>2000000</td>\n",
       "      <td>2130 Bartow Ave</td>\n",
       "      <td>Not Available</td>\n",
       "      <td>...</td>\n",
       "      <td>622.8</td>\n",
       "      <td>05/01/2017 04:42:29 PM</td>\n",
       "      <td>No</td>\n",
       "      <td>In Compliance</td>\n",
       "      <td>40.869429</td>\n",
       "      <td>-73.825737</td>\n",
       "      <td>10.0</td>\n",
       "      <td>12.0</td>\n",
       "      <td>46201.0</td>\n",
       "      <td>Co-op City                                    ...</td>\n",
       "    </tr>\n",
       "    <tr>\n",
       "      <th>1349</th>\n",
       "      <td>1631</td>\n",
       "      <td>2653174</td>\n",
       "      <td>235 West 22nd (W57)</td>\n",
       "      <td>Not Applicable: Standalone Property</td>\n",
       "      <td>Not Applicable: Standalone Property</td>\n",
       "      <td>1007720018</td>\n",
       "      <td>1007720018</td>\n",
       "      <td>1014111</td>\n",
       "      <td>235 WEST 22 STREET</td>\n",
       "      <td>Not Available</td>\n",
       "      <td>...</td>\n",
       "      <td>108.6</td>\n",
       "      <td>03/28/2017 10:04:17 AM</td>\n",
       "      <td>Yes</td>\n",
       "      <td>In Compliance</td>\n",
       "      <td>40.743907</td>\n",
       "      <td>-73.997239</td>\n",
       "      <td>4.0</td>\n",
       "      <td>3.0</td>\n",
       "      <td>91.0</td>\n",
       "      <td>Hudson Yards-Chelsea-Flatiron-Union Square    ...</td>\n",
       "    </tr>\n",
       "    <tr>\n",
       "      <th>8022</th>\n",
       "      <td>9901</td>\n",
       "      <td>4409023</td>\n",
       "      <td>53 Hope St. LLC</td>\n",
       "      <td>Not Applicable: Standalone Property</td>\n",
       "      <td>Not Applicable: Standalone Property</td>\n",
       "      <td>3023690040</td>\n",
       "      <td>3-02369-0040</td>\n",
       "      <td>3062518</td>\n",
       "      <td>55 Hope St</td>\n",
       "      <td>Not Available</td>\n",
       "      <td>...</td>\n",
       "      <td>117.9</td>\n",
       "      <td>04/28/2017 02:30:13 PM</td>\n",
       "      <td>No</td>\n",
       "      <td>In Compliance</td>\n",
       "      <td>40.713193</td>\n",
       "      <td>-73.955801</td>\n",
       "      <td>1.0</td>\n",
       "      <td>34.0</td>\n",
       "      <td>519.0</td>\n",
       "      <td>North Side-South Side                         ...</td>\n",
       "    </tr>\n",
       "  </tbody>\n",
       "</table>\n",
       "<p>3 rows × 60 columns</p>\n",
       "</div>"
      ],
      "text/plain": [
       "      Order  Property Id        Property Name  \\\n",
       "174     185      5070488                Chase   \n",
       "1349   1631      2653174  235 West 22nd (W57)   \n",
       "8022   9901      4409023      53 Hope St. LLC   \n",
       "\n",
       "                       Parent Property Id  \\\n",
       "174                               4092487   \n",
       "1349  Not Applicable: Standalone Property   \n",
       "8022  Not Applicable: Standalone Property   \n",
       "\n",
       "                     Parent Property Name BBL - 10 digits  \\\n",
       "174       Bay Plaza Community Center, LLC      2051410810   \n",
       "1349  Not Applicable: Standalone Property      1007720018   \n",
       "8022  Not Applicable: Standalone Property      3023690040   \n",
       "\n",
       "     NYC Borough, Block and Lot (BBL) self-reported  \\\n",
       "174                                    2-05141-0810   \n",
       "1349                                     1007720018   \n",
       "8022                                   3-02369-0040   \n",
       "\n",
       "     NYC Building Identification Number (BIN) Address 1 (self-reported)  \\\n",
       "174                                   2000000           2130 Bartow Ave   \n",
       "1349                                  1014111        235 WEST 22 STREET   \n",
       "8022                                  3062518                55 Hope St   \n",
       "\n",
       "          Address 2  ... Source EUI (kBtu/ft²)            Release Date  \\\n",
       "174   Not Available  ...                 622.8  05/01/2017 04:42:29 PM   \n",
       "1349  Not Available  ...                 108.6  03/28/2017 10:04:17 AM   \n",
       "8022  Not Available  ...                 117.9  04/28/2017 02:30:13 PM   \n",
       "\n",
       "     Water Required? DOF Benchmarking Submission Status   Latitude  Longitude  \\\n",
       "174               No                      In Compliance  40.869429 -73.825737   \n",
       "1349             Yes                      In Compliance  40.743907 -73.997239   \n",
       "8022              No                      In Compliance  40.713193 -73.955801   \n",
       "\n",
       "     Community Board Council District Census Tract  \\\n",
       "174             10.0             12.0      46201.0   \n",
       "1349             4.0              3.0         91.0   \n",
       "8022             1.0             34.0        519.0   \n",
       "\n",
       "                                                    NTA  \n",
       "174   Co-op City                                    ...  \n",
       "1349  Hudson Yards-Chelsea-Flatiron-Union Square    ...  \n",
       "8022  North Side-South Side                         ...  \n",
       "\n",
       "[3 rows x 60 columns]"
      ]
     },
     "execution_count": 4,
     "metadata": {},
     "output_type": "execute_result"
    }
   ],
   "source": [
    "ds.head(3) # посмотрим на первые 3 строчки датасета"
   ]
  },
  {
   "cell_type": "code",
   "execution_count": 5,
   "id": "52cd66cc",
   "metadata": {},
   "outputs": [],
   "source": [
    "ds = ds.drop(['Order', 'Property Id', 'Parent Property Id'], axis=1) #  выбросим признаки, т.к. это просто счетчики"
   ]
  },
  {
   "cell_type": "markdown",
   "id": "8d85ee81",
   "metadata": {},
   "source": [
    "В датасете много значений  \"Not Available\", заменим их на Nan:"
   ]
  },
  {
   "cell_type": "code",
   "execution_count": 6,
   "id": "10b105ae",
   "metadata": {},
   "outputs": [],
   "source": [
    "ds = ds.replace('Not Available', np.nan)"
   ]
  },
  {
   "cell_type": "code",
   "execution_count": 7,
   "id": "130b701d",
   "metadata": {},
   "outputs": [
    {
     "data": {
      "text/plain": [
       "object     46\n",
       "float64     7\n",
       "int64       4\n",
       "dtype: int64"
      ]
     },
     "execution_count": 7,
     "metadata": {},
     "output_type": "execute_result"
    }
   ],
   "source": [
    "ds.dtypes.value_counts() # кол-во признаков разных типов в датасете - 47 категориальных и 10 численных"
   ]
  },
  {
   "cell_type": "markdown",
   "id": "7ea6de76",
   "metadata": {},
   "source": [
    "Кажется, что кол-во численных признаков должно быть больше, возможно они записаны как строковые переменные - проверим это:"
   ]
  },
  {
   "cell_type": "code",
   "execution_count": 8,
   "id": "7a317829",
   "metadata": {},
   "outputs": [],
   "source": [
    "for col in ds.columns: \n",
    "    if ds[col].dtype == 'O': # если колонка типа object\n",
    "        try:\n",
    "            ds[col] = ds[col].astype(float) # преобразуем в формат float\n",
    "        except:\n",
    "            pass"
   ]
  },
  {
   "cell_type": "code",
   "execution_count": 9,
   "id": "7eaf9117",
   "metadata": {},
   "outputs": [
    {
     "data": {
      "text/plain": [
       "float64    31\n",
       "object     22\n",
       "int64       4\n",
       "dtype: int64"
      ]
     },
     "execution_count": 9,
     "metadata": {},
     "output_type": "execute_result"
    }
   ],
   "source": [
    "ds.dtypes.value_counts() # теперь кол-во категориальных равно 22, а числовых - 35"
   ]
  },
  {
   "cell_type": "markdown",
   "id": "6416e2c8",
   "metadata": {},
   "source": [
    "Выбросим признаки, в которых отсутствуют больше 60 процентов данных:"
   ]
  },
  {
   "cell_type": "code",
   "execution_count": 10,
   "id": "63b0ca68",
   "metadata": {},
   "outputs": [],
   "source": [
    "missed_ratio = (ds.isna().sum()/len(ds)*100).sort_values(ascending=False) # процент пропущенных значений в каждом признаке\n",
    "ds = ds.drop(missed_ratio[missed_ratio>60].index, axis=1)"
   ]
  },
  {
   "cell_type": "markdown",
   "id": "e3b55dba",
   "metadata": {},
   "source": [
    "Заполним пропуски в численных данных медианными значениями, а пропуски в категориальных данных - модальными:"
   ]
  },
  {
   "cell_type": "code",
   "execution_count": 11,
   "id": "f785c5e1",
   "metadata": {},
   "outputs": [],
   "source": [
    "num_columns = ds.select_dtypes(exclude='O').columns # численные признаки в датасете\n",
    "cat_columns = ds.select_dtypes(include='O').columns # категориальные признаки в датасете\n",
    "\n",
    "ds[num_columns] = ds[num_columns].fillna(ds[num_columns].median()) # заполним пропуски медианными значениями\n",
    "ds[cat_columns] = ds[cat_columns].fillna(ds[cat_columns].mode(axis=0).iloc[0]) # заполним пропуски модальными значениями"
   ]
  },
  {
   "cell_type": "code",
   "execution_count": 12,
   "id": "7a5f3fbc",
   "metadata": {},
   "outputs": [
    {
     "name": "stdout",
     "output_type": "stream",
     "text": [
      "Кол-во пропущенных значения в датасете: 0\n"
     ]
    }
   ],
   "source": [
    "print('Кол-во пропущенных значения в датасете: {}'.format(ds.isna().sum().sum()))"
   ]
  },
  {
   "cell_type": "markdown",
   "id": "c70b7215",
   "metadata": {},
   "source": [
    "Многие алгоритмы машинного обучения построены на предположении о Гауссовом (нормальном) распределении входных данных. Поэтому для качественной работы таких моделей, обязательна проверка данных на нормальность, а при необходимости - приведение их к распределению, близкому к нормальному.\n",
    "\n",
    "Кроме того, в данном датасете присутствуют численные признаки разных масштабов. Например, \"DOF Gross Floor Area\" по порядку ~10^5, а Site EUI (kBtu/ft²) по порядку ~10^2, поэтому необходимо отмасштабировать признаки."
   ]
  },
  {
   "cell_type": "code",
   "execution_count": 13,
   "id": "9256d48f",
   "metadata": {},
   "outputs": [],
   "source": [
    "ds_num = ds[num_columns] # рассматриваем только численные признаки"
   ]
  },
  {
   "cell_type": "code",
   "execution_count": 14,
   "id": "b1e5703a",
   "metadata": {},
   "outputs": [
    {
     "data": {
      "text/html": [
       "<div>\n",
       "<style scoped>\n",
       "    .dataframe tbody tr th:only-of-type {\n",
       "        vertical-align: middle;\n",
       "    }\n",
       "\n",
       "    .dataframe tbody tr th {\n",
       "        vertical-align: top;\n",
       "    }\n",
       "\n",
       "    .dataframe thead th {\n",
       "        text-align: right;\n",
       "    }\n",
       "</style>\n",
       "<table border=\"1\" class=\"dataframe\">\n",
       "  <thead>\n",
       "    <tr style=\"text-align: right;\">\n",
       "      <th></th>\n",
       "      <th>DOF Gross Floor Area</th>\n",
       "      <th>Largest Property Use Type - Gross Floor Area (ft²)</th>\n",
       "      <th>Year Built</th>\n",
       "      <th>Number of Buildings - Self-reported</th>\n",
       "      <th>Occupancy</th>\n",
       "      <th>ENERGY STAR Score</th>\n",
       "      <th>Site EUI (kBtu/ft²)</th>\n",
       "      <th>Weather Normalized Site EUI (kBtu/ft²)</th>\n",
       "      <th>Weather Normalized Site Electricity Intensity (kWh/ft²)</th>\n",
       "      <th>Weather Normalized Site Natural Gas Intensity (therms/ft²)</th>\n",
       "      <th>...</th>\n",
       "      <th>Indirect GHG Emissions (Metric Tons CO2e)</th>\n",
       "      <th>Property GFA - Self-Reported (ft²)</th>\n",
       "      <th>Water Use (All Water Sources) (kgal)</th>\n",
       "      <th>Water Intensity (All Water Sources) (gal/ft²)</th>\n",
       "      <th>Source EUI (kBtu/ft²)</th>\n",
       "      <th>Latitude</th>\n",
       "      <th>Longitude</th>\n",
       "      <th>Community Board</th>\n",
       "      <th>Council District</th>\n",
       "      <th>Census Tract</th>\n",
       "    </tr>\n",
       "  </thead>\n",
       "  <tbody>\n",
       "    <tr>\n",
       "      <th>174</th>\n",
       "      <td>540388.0</td>\n",
       "      <td>3190.0</td>\n",
       "      <td>2004</td>\n",
       "      <td>1</td>\n",
       "      <td>100</td>\n",
       "      <td>3.0</td>\n",
       "      <td>279.0</td>\n",
       "      <td>295.1</td>\n",
       "      <td>45.2</td>\n",
       "      <td>1.4</td>\n",
       "      <td>...</td>\n",
       "      <td>46.7</td>\n",
       "      <td>3190</td>\n",
       "      <td>4429.8</td>\n",
       "      <td>44.14</td>\n",
       "      <td>622.8</td>\n",
       "      <td>40.869429</td>\n",
       "      <td>-73.825737</td>\n",
       "      <td>10.0</td>\n",
       "      <td>12.0</td>\n",
       "      <td>46201.0</td>\n",
       "    </tr>\n",
       "    <tr>\n",
       "      <th>1349</th>\n",
       "      <td>116586.0</td>\n",
       "      <td>96500.0</td>\n",
       "      <td>1974</td>\n",
       "      <td>1</td>\n",
       "      <td>100</td>\n",
       "      <td>93.0</td>\n",
       "      <td>60.2</td>\n",
       "      <td>82.5</td>\n",
       "      <td>5.4</td>\n",
       "      <td>0.5</td>\n",
       "      <td>...</td>\n",
       "      <td>194.3</td>\n",
       "      <td>96500</td>\n",
       "      <td>3977.1</td>\n",
       "      <td>41.21</td>\n",
       "      <td>108.6</td>\n",
       "      <td>40.743907</td>\n",
       "      <td>-73.997239</td>\n",
       "      <td>4.0</td>\n",
       "      <td>3.0</td>\n",
       "      <td>91.0</td>\n",
       "    </tr>\n",
       "    <tr>\n",
       "      <th>8022</th>\n",
       "      <td>120582.0</td>\n",
       "      <td>120582.0</td>\n",
       "      <td>1907</td>\n",
       "      <td>1</td>\n",
       "      <td>100</td>\n",
       "      <td>59.0</td>\n",
       "      <td>57.9</td>\n",
       "      <td>60.1</td>\n",
       "      <td>7.8</td>\n",
       "      <td>0.3</td>\n",
       "      <td>...</td>\n",
       "      <td>306.0</td>\n",
       "      <td>120582</td>\n",
       "      <td>3284.1</td>\n",
       "      <td>27.24</td>\n",
       "      <td>117.9</td>\n",
       "      <td>40.713193</td>\n",
       "      <td>-73.955801</td>\n",
       "      <td>1.0</td>\n",
       "      <td>34.0</td>\n",
       "      <td>519.0</td>\n",
       "    </tr>\n",
       "    <tr>\n",
       "      <th>7694</th>\n",
       "      <td>94596.0</td>\n",
       "      <td>101134.0</td>\n",
       "      <td>1930</td>\n",
       "      <td>1</td>\n",
       "      <td>100</td>\n",
       "      <td>65.0</td>\n",
       "      <td>67.2</td>\n",
       "      <td>71.4</td>\n",
       "      <td>3.6</td>\n",
       "      <td>0.6</td>\n",
       "      <td>...</td>\n",
       "      <td>122.3</td>\n",
       "      <td>103110</td>\n",
       "      <td>6037.9</td>\n",
       "      <td>58.56</td>\n",
       "      <td>97.2</td>\n",
       "      <td>40.667566</td>\n",
       "      <td>-73.961314</td>\n",
       "      <td>9.0</td>\n",
       "      <td>35.0</td>\n",
       "      <td>213.0</td>\n",
       "    </tr>\n",
       "    <tr>\n",
       "      <th>7391</th>\n",
       "      <td>422950.0</td>\n",
       "      <td>196856.0</td>\n",
       "      <td>2015</td>\n",
       "      <td>1</td>\n",
       "      <td>95</td>\n",
       "      <td>79.0</td>\n",
       "      <td>70.0</td>\n",
       "      <td>71.4</td>\n",
       "      <td>8.4</td>\n",
       "      <td>0.4</td>\n",
       "      <td>...</td>\n",
       "      <td>732.7</td>\n",
       "      <td>375327</td>\n",
       "      <td>4429.8</td>\n",
       "      <td>44.14</td>\n",
       "      <td>134.8</td>\n",
       "      <td>40.702601</td>\n",
       "      <td>-73.992134</td>\n",
       "      <td>2.0</td>\n",
       "      <td>33.0</td>\n",
       "      <td>21.0</td>\n",
       "    </tr>\n",
       "  </tbody>\n",
       "</table>\n",
       "<p>5 rows × 27 columns</p>\n",
       "</div>"
      ],
      "text/plain": [
       "      DOF Gross Floor Area  \\\n",
       "174               540388.0   \n",
       "1349              116586.0   \n",
       "8022              120582.0   \n",
       "7694               94596.0   \n",
       "7391              422950.0   \n",
       "\n",
       "      Largest Property Use Type - Gross Floor Area (ft²)  Year Built  \\\n",
       "174                                              3190.0         2004   \n",
       "1349                                            96500.0         1974   \n",
       "8022                                           120582.0         1907   \n",
       "7694                                           101134.0         1930   \n",
       "7391                                           196856.0         2015   \n",
       "\n",
       "      Number of Buildings - Self-reported  Occupancy  ENERGY STAR Score  \\\n",
       "174                                     1        100                3.0   \n",
       "1349                                    1        100               93.0   \n",
       "8022                                    1        100               59.0   \n",
       "7694                                    1        100               65.0   \n",
       "7391                                    1         95               79.0   \n",
       "\n",
       "      Site EUI (kBtu/ft²)  Weather Normalized Site EUI (kBtu/ft²)  \\\n",
       "174                 279.0                                   295.1   \n",
       "1349                 60.2                                    82.5   \n",
       "8022                 57.9                                    60.1   \n",
       "7694                 67.2                                    71.4   \n",
       "7391                 70.0                                    71.4   \n",
       "\n",
       "      Weather Normalized Site Electricity Intensity (kWh/ft²)  \\\n",
       "174                                                45.2         \n",
       "1349                                                5.4         \n",
       "8022                                                7.8         \n",
       "7694                                                3.6         \n",
       "7391                                                8.4         \n",
       "\n",
       "      Weather Normalized Site Natural Gas Intensity (therms/ft²)  ...  \\\n",
       "174                                                 1.4           ...   \n",
       "1349                                                0.5           ...   \n",
       "8022                                                0.3           ...   \n",
       "7694                                                0.6           ...   \n",
       "7391                                                0.4           ...   \n",
       "\n",
       "      Indirect GHG Emissions (Metric Tons CO2e)  \\\n",
       "174                                        46.7   \n",
       "1349                                      194.3   \n",
       "8022                                      306.0   \n",
       "7694                                      122.3   \n",
       "7391                                      732.7   \n",
       "\n",
       "      Property GFA - Self-Reported (ft²)  \\\n",
       "174                                 3190   \n",
       "1349                               96500   \n",
       "8022                              120582   \n",
       "7694                              103110   \n",
       "7391                              375327   \n",
       "\n",
       "      Water Use (All Water Sources) (kgal)  \\\n",
       "174                                 4429.8   \n",
       "1349                                3977.1   \n",
       "8022                                3284.1   \n",
       "7694                                6037.9   \n",
       "7391                                4429.8   \n",
       "\n",
       "      Water Intensity (All Water Sources) (gal/ft²)  Source EUI (kBtu/ft²)  \\\n",
       "174                                           44.14                  622.8   \n",
       "1349                                          41.21                  108.6   \n",
       "8022                                          27.24                  117.9   \n",
       "7694                                          58.56                   97.2   \n",
       "7391                                          44.14                  134.8   \n",
       "\n",
       "       Latitude  Longitude  Community Board  Council District  Census Tract  \n",
       "174   40.869429 -73.825737             10.0              12.0       46201.0  \n",
       "1349  40.743907 -73.997239              4.0               3.0          91.0  \n",
       "8022  40.713193 -73.955801              1.0              34.0         519.0  \n",
       "7694  40.667566 -73.961314              9.0              35.0         213.0  \n",
       "7391  40.702601 -73.992134              2.0              33.0          21.0  \n",
       "\n",
       "[5 rows x 27 columns]"
      ]
     },
     "execution_count": 14,
     "metadata": {},
     "output_type": "execute_result"
    }
   ],
   "source": [
    "ds_num.head()"
   ]
  },
  {
   "cell_type": "markdown",
   "id": "d6e1b0c9",
   "metadata": {},
   "source": [
    "Проверку на нормальность можно проводить несколькими способами:\n",
    "- построение гистограммы признака\n",
    "- построение QQ-графика\n",
    "- проведение теста на нормальность"
   ]
  },
  {
   "cell_type": "markdown",
   "id": "9c878700",
   "metadata": {},
   "source": [
    "Рассмотрим каждый из подходов на одном из признаков из датасета, например, 'Site EUI (kBtu/ft²)'. Для приведения данных к нормальному виду используем преобразование Йео-Джонсона из метода PowerTransformer из библиотеки sklearn:"
   ]
  },
  {
   "cell_type": "code",
   "execution_count": 15,
   "id": "b185f7b3",
   "metadata": {},
   "outputs": [
    {
     "name": "stderr",
     "output_type": "stream",
     "text": [
      "/usr/local/lib/python3.9/site-packages/sklearn/preprocessing/_data.py:3237: RuntimeWarning: divide by zero encountered in log\n",
      "  loglike = -n_samples / 2 * np.log(x_trans.var())\n",
      "/usr/local/lib/python3.9/site-packages/numpy/core/_methods.py:205: RuntimeWarning: overflow encountered in multiply\n",
      "  x = um.multiply(x, x, out=x)\n",
      "/usr/local/lib/python3.9/site-packages/numpy/core/_methods.py:216: RuntimeWarning: overflow encountered in reduce\n",
      "  ret = umr_sum(x, axis, dtype, out, keepdims)\n"
     ]
    },
    {
     "data": {
      "text/html": [
       "<div>\n",
       "<style scoped>\n",
       "    .dataframe tbody tr th:only-of-type {\n",
       "        vertical-align: middle;\n",
       "    }\n",
       "\n",
       "    .dataframe tbody tr th {\n",
       "        vertical-align: top;\n",
       "    }\n",
       "\n",
       "    .dataframe thead th {\n",
       "        text-align: right;\n",
       "    }\n",
       "</style>\n",
       "<table border=\"1\" class=\"dataframe\">\n",
       "  <thead>\n",
       "    <tr style=\"text-align: right;\">\n",
       "      <th></th>\n",
       "      <th>DOF Gross Floor Area</th>\n",
       "      <th>Largest Property Use Type - Gross Floor Area (ft²)</th>\n",
       "      <th>Year Built</th>\n",
       "      <th>Number of Buildings - Self-reported</th>\n",
       "      <th>Occupancy</th>\n",
       "      <th>ENERGY STAR Score</th>\n",
       "      <th>Site EUI (kBtu/ft²)</th>\n",
       "      <th>Weather Normalized Site EUI (kBtu/ft²)</th>\n",
       "      <th>Weather Normalized Site Electricity Intensity (kWh/ft²)</th>\n",
       "      <th>Weather Normalized Site Natural Gas Intensity (therms/ft²)</th>\n",
       "      <th>...</th>\n",
       "      <th>Indirect GHG Emissions (Metric Tons CO2e)</th>\n",
       "      <th>Property GFA - Self-Reported (ft²)</th>\n",
       "      <th>Water Use (All Water Sources) (kgal)</th>\n",
       "      <th>Water Intensity (All Water Sources) (gal/ft²)</th>\n",
       "      <th>Source EUI (kBtu/ft²)</th>\n",
       "      <th>Latitude</th>\n",
       "      <th>Longitude</th>\n",
       "      <th>Community Board</th>\n",
       "      <th>Council District</th>\n",
       "      <th>Census Tract</th>\n",
       "    </tr>\n",
       "  </thead>\n",
       "  <tbody>\n",
       "    <tr>\n",
       "      <th>0</th>\n",
       "      <td>0.0</td>\n",
       "      <td>-5.053609</td>\n",
       "      <td>1.714519</td>\n",
       "      <td>-0.151893</td>\n",
       "      <td>0.264383</td>\n",
       "      <td>-1.988733</td>\n",
       "      <td>1.816726</td>\n",
       "      <td>1.941770</td>\n",
       "      <td>2.579458</td>\n",
       "      <td>1.828390</td>\n",
       "      <td>...</td>\n",
       "      <td>-1.008136</td>\n",
       "      <td>-5.077054</td>\n",
       "      <td>0.008320</td>\n",
       "      <td>0.084459</td>\n",
       "      <td>2.212021</td>\n",
       "      <td>1.795254</td>\n",
       "      <td>3.109449</td>\n",
       "      <td>0.879546</td>\n",
       "      <td>0.362441</td>\n",
       "      <td>2.069649</td>\n",
       "    </tr>\n",
       "    <tr>\n",
       "      <th>1</th>\n",
       "      <td>0.0</td>\n",
       "      <td>-0.131682</td>\n",
       "      <td>0.816695</td>\n",
       "      <td>-0.151893</td>\n",
       "      <td>0.264383</td>\n",
       "      <td>1.243768</td>\n",
       "      <td>-0.237009</td>\n",
       "      <td>0.126808</td>\n",
       "      <td>-0.121317</td>\n",
       "      <td>0.284054</td>\n",
       "      <td>...</td>\n",
       "      <td>-0.064511</td>\n",
       "      <td>-0.176043</td>\n",
       "      <td>-0.093463</td>\n",
       "      <td>0.008541</td>\n",
       "      <td>-0.182052</td>\n",
       "      <td>-0.242906</td>\n",
       "      <td>-0.870488</td>\n",
       "      <td>-0.863074</td>\n",
       "      <td>-1.136506</td>\n",
       "      <td>-0.698819</td>\n",
       "    </tr>\n",
       "    <tr>\n",
       "      <th>2</th>\n",
       "      <td>0.0</td>\n",
       "      <td>0.165187</td>\n",
       "      <td>-1.444090</td>\n",
       "      <td>-0.151893</td>\n",
       "      <td>0.264383</td>\n",
       "      <td>-0.100371</td>\n",
       "      <td>-0.290808</td>\n",
       "      <td>-0.334728</td>\n",
       "      <td>0.390162</td>\n",
       "      <td>-0.316504</td>\n",
       "      <td>...</td>\n",
       "      <td>0.250266</td>\n",
       "      <td>0.118460</td>\n",
       "      <td>-0.270631</td>\n",
       "      <td>-0.444631</td>\n",
       "      <td>-0.064297</td>\n",
       "      <td>-0.659290</td>\n",
       "      <td>0.094630</td>\n",
       "      <td>-2.075708</td>\n",
       "      <td>1.385576</td>\n",
       "      <td>0.525292</td>\n",
       "    </tr>\n",
       "    <tr>\n",
       "      <th>3</th>\n",
       "      <td>0.0</td>\n",
       "      <td>-0.068943</td>\n",
       "      <td>-0.627395</td>\n",
       "      <td>-0.151893</td>\n",
       "      <td>0.264383</td>\n",
       "      <td>0.129733</td>\n",
       "      <td>-0.085473</td>\n",
       "      <td>-0.083286</td>\n",
       "      <td>-0.687818</td>\n",
       "      <td>0.532783</td>\n",
       "      <td>...</td>\n",
       "      <td>-0.378530</td>\n",
       "      <td>-0.088150</td>\n",
       "      <td>0.309083</td>\n",
       "      <td>0.398807</td>\n",
       "      <td>-0.341757</td>\n",
       "      <td>-1.226585</td>\n",
       "      <td>-0.033642</td>\n",
       "      <td>0.622120</td>\n",
       "      <td>1.411940</td>\n",
       "      <td>-0.037429</td>\n",
       "    </tr>\n",
       "    <tr>\n",
       "      <th>4</th>\n",
       "      <td>0.0</td>\n",
       "      <td>0.808248</td>\n",
       "      <td>2.028217</td>\n",
       "      <td>-0.151893</td>\n",
       "      <td>-3.565916</td>\n",
       "      <td>0.679084</td>\n",
       "      <td>-0.029384</td>\n",
       "      <td>-0.083286</td>\n",
       "      <td>0.492031</td>\n",
       "      <td>0.003259</td>\n",
       "      <td>...</td>\n",
       "      <td>0.873652</td>\n",
       "      <td>1.573802</td>\n",
       "      <td>0.008320</td>\n",
       "      <td>0.084459</td>\n",
       "      <td>0.126630</td>\n",
       "      <td>-0.796276</td>\n",
       "      <td>-0.751469</td>\n",
       "      <td>-1.620708</td>\n",
       "      <td>1.358300</td>\n",
       "      <td>-2.184964</td>\n",
       "    </tr>\n",
       "  </tbody>\n",
       "</table>\n",
       "<p>5 rows × 27 columns</p>\n",
       "</div>"
      ],
      "text/plain": [
       "   DOF Gross Floor Area  Largest Property Use Type - Gross Floor Area (ft²)  \\\n",
       "0                   0.0                                          -5.053609    \n",
       "1                   0.0                                          -0.131682    \n",
       "2                   0.0                                           0.165187    \n",
       "3                   0.0                                          -0.068943    \n",
       "4                   0.0                                           0.808248    \n",
       "\n",
       "   Year Built  Number of Buildings - Self-reported  Occupancy  \\\n",
       "0    1.714519                            -0.151893   0.264383   \n",
       "1    0.816695                            -0.151893   0.264383   \n",
       "2   -1.444090                            -0.151893   0.264383   \n",
       "3   -0.627395                            -0.151893   0.264383   \n",
       "4    2.028217                            -0.151893  -3.565916   \n",
       "\n",
       "   ENERGY STAR Score  Site EUI (kBtu/ft²)  \\\n",
       "0          -1.988733             1.816726   \n",
       "1           1.243768            -0.237009   \n",
       "2          -0.100371            -0.290808   \n",
       "3           0.129733            -0.085473   \n",
       "4           0.679084            -0.029384   \n",
       "\n",
       "   Weather Normalized Site EUI (kBtu/ft²)  \\\n",
       "0                                1.941770   \n",
       "1                                0.126808   \n",
       "2                               -0.334728   \n",
       "3                               -0.083286   \n",
       "4                               -0.083286   \n",
       "\n",
       "   Weather Normalized Site Electricity Intensity (kWh/ft²)  \\\n",
       "0                                           2.579458         \n",
       "1                                          -0.121317         \n",
       "2                                           0.390162         \n",
       "3                                          -0.687818         \n",
       "4                                           0.492031         \n",
       "\n",
       "   Weather Normalized Site Natural Gas Intensity (therms/ft²)  ...  \\\n",
       "0                                           1.828390           ...   \n",
       "1                                           0.284054           ...   \n",
       "2                                          -0.316504           ...   \n",
       "3                                           0.532783           ...   \n",
       "4                                           0.003259           ...   \n",
       "\n",
       "   Indirect GHG Emissions (Metric Tons CO2e)  \\\n",
       "0                                  -1.008136   \n",
       "1                                  -0.064511   \n",
       "2                                   0.250266   \n",
       "3                                  -0.378530   \n",
       "4                                   0.873652   \n",
       "\n",
       "   Property GFA - Self-Reported (ft²)  Water Use (All Water Sources) (kgal)  \\\n",
       "0                           -5.077054                              0.008320   \n",
       "1                           -0.176043                             -0.093463   \n",
       "2                            0.118460                             -0.270631   \n",
       "3                           -0.088150                              0.309083   \n",
       "4                            1.573802                              0.008320   \n",
       "\n",
       "   Water Intensity (All Water Sources) (gal/ft²)  Source EUI (kBtu/ft²)  \\\n",
       "0                                       0.084459               2.212021   \n",
       "1                                       0.008541              -0.182052   \n",
       "2                                      -0.444631              -0.064297   \n",
       "3                                       0.398807              -0.341757   \n",
       "4                                       0.084459               0.126630   \n",
       "\n",
       "   Latitude  Longitude  Community Board  Council District  Census Tract  \n",
       "0  1.795254   3.109449         0.879546          0.362441      2.069649  \n",
       "1 -0.242906  -0.870488        -0.863074         -1.136506     -0.698819  \n",
       "2 -0.659290   0.094630        -2.075708          1.385576      0.525292  \n",
       "3 -1.226585  -0.033642         0.622120          1.411940     -0.037429  \n",
       "4 -0.796276  -0.751469        -1.620708          1.358300     -2.184964  \n",
       "\n",
       "[5 rows x 27 columns]"
      ]
     },
     "execution_count": 15,
     "metadata": {},
     "output_type": "execute_result"
    }
   ],
   "source": [
    "yeo = PowerTransformer(method='yeo-johnson', standardize=True)\n",
    "ds_norm = pd.DataFrame(yeo.fit_transform(ds_num), columns=ds_num.columns) # нормализуем датасет\n",
    "ds_norm.head()"
   ]
  },
  {
   "cell_type": "markdown",
   "id": "65cb9822",
   "metadata": {
    "heading_collapsed": true
   },
   "source": [
    "### Построение гистограммы"
   ]
  },
  {
   "cell_type": "code",
   "execution_count": 17,
   "id": "8fbb6d54",
   "metadata": {
    "hidden": true
   },
   "outputs": [
    {
     "data": {
      "image/png": "[encoded data removed]",
      "text/plain": [
       "<Figure size 864x288 with 2 Axes>"
      ]
     },
     "metadata": {
      "image/png": {
       "height": 279,
       "width": 856
      },
      "needs_background": "light"
     },
     "output_type": "display_data"
    }
   ],
   "source": [
    "plt.figure(figsize=(12,4))\n",
    "plt.subplot(121)\n",
    "sns.histplot(ds_num['Site EUI (kBtu/ft²)']).set_title('Распределение до нормализации')\n",
    "plt.subplot(122)\n",
    "sns.histplot(ds_norm['Site EUI (kBtu/ft²)']).set_title('Распределение после нормализации')\n",
    "plt.tight_layout()"
   ]
  },
  {
   "cell_type": "markdown",
   "id": "d0341b49",
   "metadata": {
    "heading_collapsed": true
   },
   "source": [
    "### Probability-график"
   ]
  },
  {
   "cell_type": "code",
   "execution_count": 30,
   "id": "c1cf3c2e",
   "metadata": {
    "hidden": true
   },
   "outputs": [
    {
     "data": {
      "image/png": "[encoded data removed]",
      "text/plain": [
       "<Figure size 576x432 with 1 Axes>"
      ]
     },
     "metadata": {
      "image/png": {
       "height": 386,
       "width": 510
      },
      "needs_background": "light"
     },
     "output_type": "display_data"
    }
   ],
   "source": [
    "from scipy import stats\n",
    "\n",
    "plt.figure(figsize=(8,6))\n",
    "stats.probplot(ds_num['Site EUI (kBtu/ft²)'], dist='norm', plot=plt)\n",
    "plt.title('Распределение до нормализации')\n",
    "plt.axis([-4, 4, -100, 2000]);"
   ]
  },
  {
   "cell_type": "markdown",
   "id": "73f1cd5e",
   "metadata": {
    "hidden": true
   },
   "source": [
    "Очевидно, что данные далеки от нормалного распределения, которое на данном графике представляет красная линия, также очевидны выбросы в данных, которые необходимо обработать и работа с которыми будет показана в части 6.5"
   ]
  },
  {
   "cell_type": "code",
   "execution_count": 32,
   "id": "8820f649",
   "metadata": {
    "hidden": true
   },
   "outputs": [
    {
     "data": {
      "image/png": "[encoded data removed]",
      "text/plain": [
       "<Figure size 576x432 with 1 Axes>"
      ]
     },
     "metadata": {
      "image/png": {
       "height": 386,
       "width": 496
      },
      "needs_background": "light"
     },
     "output_type": "display_data"
    }
   ],
   "source": [
    "plt.figure(figsize=(8,6))\n",
    "stats.probplot(ds_norm['Site EUI (kBtu/ft²)'], dist='norm', plot=plt)\n",
    "plt.title('Распределение после нормализации');"
   ]
  },
  {
   "cell_type": "markdown",
   "id": "a1ca3c6a",
   "metadata": {
    "hidden": true
   },
   "source": [
    "После нормализации график уже ближе к нормальному распределению, хотя и по-прежнему с значительными отклонениями."
   ]
  },
  {
   "cell_type": "markdown",
   "id": "0c5add02",
   "metadata": {
    "heading_collapsed": true
   },
   "source": [
    "### Тест Шапиро-Уилка на нормальность"
   ]
  },
  {
   "cell_type": "code",
   "execution_count": 23,
   "id": "eaa49387",
   "metadata": {
    "hidden": true
   },
   "outputs": [
    {
     "data": {
      "text/plain": [
       "ShapiroResult(statistic=0.019986450672149658, pvalue=0.0)"
      ]
     },
     "execution_count": 23,
     "metadata": {},
     "output_type": "execute_result"
    }
   ],
   "source": [
    "shapiro(ds_num['Site EUI (kBtu/ft²)'])"
   ]
  },
  {
   "cell_type": "code",
   "execution_count": 24,
   "id": "10538431",
   "metadata": {
    "hidden": true
   },
   "outputs": [
    {
     "data": {
      "text/plain": [
       "ShapiroResult(statistic=0.7792606949806213, pvalue=1.401298464324817e-45)"
      ]
     },
     "execution_count": 24,
     "metadata": {},
     "output_type": "execute_result"
    }
   ],
   "source": [
    "shapiro(ds_norm['Site EUI (kBtu/ft²)'])"
   ]
  },
  {
   "cell_type": "markdown",
   "id": "db01f843",
   "metadata": {
    "hidden": true
   },
   "source": [
    "В данном случае нулевая гипотеза отвергается в обоих случаях (p-value < 0.05), что подразумевает, что в обоих случая распределения НЕ является нормальными. Однако, проверка нормальности статистическими тестами является очень строгой, т.к. идет сравнение с идеальным распределением. Поэтому, несмотря на то, что статистический тест говорит о ненормальности распределения, всегда стоит смотреть на гистограмму распределения."
   ]
  },
  {
   "cell_type": "markdown",
   "id": "4e6dd8ef",
   "metadata": {
    "heading_collapsed": true
   },
   "source": [
    "### Стандартизация и масштабирование"
   ]
  },
  {
   "cell_type": "markdown",
   "id": "3b9e98f9",
   "metadata": {
    "hidden": true
   },
   "source": [
    "При нормализации данных в методе PowerTransformer был задан параметр стандартизации (standartize=True), который привел распределение к стандартному (вычитание среднего и масштабирование дисперсией). Однако можно было бы использовать другие подходы для масштабирования и стандартизации:"
   ]
  },
  {
   "cell_type": "code",
   "execution_count": 25,
   "id": "56085d18",
   "metadata": {
    "hidden": true
   },
   "outputs": [
    {
     "data": {
      "text/html": [
       "<div>\n",
       "<style scoped>\n",
       "    .dataframe tbody tr th:only-of-type {\n",
       "        vertical-align: middle;\n",
       "    }\n",
       "\n",
       "    .dataframe tbody tr th {\n",
       "        vertical-align: top;\n",
       "    }\n",
       "\n",
       "    .dataframe thead th {\n",
       "        text-align: right;\n",
       "    }\n",
       "</style>\n",
       "<table border=\"1\" class=\"dataframe\">\n",
       "  <thead>\n",
       "    <tr style=\"text-align: right;\">\n",
       "      <th></th>\n",
       "      <th>0</th>\n",
       "    </tr>\n",
       "  </thead>\n",
       "  <tbody>\n",
       "    <tr>\n",
       "      <th>count</th>\n",
       "      <td>2000.000000</td>\n",
       "    </tr>\n",
       "    <tr>\n",
       "      <th>mean</th>\n",
       "      <td>0.001625</td>\n",
       "    </tr>\n",
       "    <tr>\n",
       "      <th>std</th>\n",
       "      <td>0.026588</td>\n",
       "    </tr>\n",
       "    <tr>\n",
       "      <th>min</th>\n",
       "      <td>0.000000</td>\n",
       "    </tr>\n",
       "    <tr>\n",
       "      <th>25%</th>\n",
       "      <td>0.000432</td>\n",
       "    </tr>\n",
       "    <tr>\n",
       "      <th>50%</th>\n",
       "      <td>0.000550</td>\n",
       "    </tr>\n",
       "    <tr>\n",
       "      <th>75%</th>\n",
       "      <td>0.000688</td>\n",
       "    </tr>\n",
       "    <tr>\n",
       "      <th>max</th>\n",
       "      <td>1.000000</td>\n",
       "    </tr>\n",
       "  </tbody>\n",
       "</table>\n",
       "</div>"
      ],
      "text/plain": [
       "                 0\n",
       "count  2000.000000\n",
       "mean      0.001625\n",
       "std       0.026588\n",
       "min       0.000000\n",
       "25%       0.000432\n",
       "50%       0.000550\n",
       "75%       0.000688\n",
       "max       1.000000"
      ]
     },
     "execution_count": 25,
     "metadata": {},
     "output_type": "execute_result"
    }
   ],
   "source": [
    "# масштабирование признака, что все значения находится в определенном интервале, по умолчанию - (0,1)\n",
    "scl = MinMaxScaler()\n",
    "pd.DataFrame(scl.fit_transform(ds_num['Site EUI (kBtu/ft²)'].values.reshape(-1,1))).describe()"
   ]
  },
  {
   "cell_type": "code",
   "execution_count": 26,
   "id": "ee07b4d3",
   "metadata": {
    "hidden": true
   },
   "outputs": [
    {
     "data": {
      "text/html": [
       "<div>\n",
       "<style scoped>\n",
       "    .dataframe tbody tr th:only-of-type {\n",
       "        vertical-align: middle;\n",
       "    }\n",
       "\n",
       "    .dataframe tbody tr th {\n",
       "        vertical-align: top;\n",
       "    }\n",
       "\n",
       "    .dataframe thead th {\n",
       "        text-align: right;\n",
       "    }\n",
       "</style>\n",
       "<table border=\"1\" class=\"dataframe\">\n",
       "  <thead>\n",
       "    <tr style=\"text-align: right;\">\n",
       "      <th></th>\n",
       "      <th>0</th>\n",
       "    </tr>\n",
       "  </thead>\n",
       "  <tbody>\n",
       "    <tr>\n",
       "      <th>count</th>\n",
       "      <td>2.000000e+03</td>\n",
       "    </tr>\n",
       "    <tr>\n",
       "      <th>mean</th>\n",
       "      <td>1.243450e-17</td>\n",
       "    </tr>\n",
       "    <tr>\n",
       "      <th>std</th>\n",
       "      <td>1.000250e+00</td>\n",
       "    </tr>\n",
       "    <tr>\n",
       "      <th>min</th>\n",
       "      <td>-6.113237e-02</td>\n",
       "    </tr>\n",
       "    <tr>\n",
       "      <th>25%</th>\n",
       "      <td>-4.487943e-02</td>\n",
       "    </tr>\n",
       "    <tr>\n",
       "      <th>50%</th>\n",
       "      <td>-4.043731e-02</td>\n",
       "    </tr>\n",
       "    <tr>\n",
       "      <th>75%</th>\n",
       "      <td>-3.526354e-02</td>\n",
       "    </tr>\n",
       "    <tr>\n",
       "      <th>max</th>\n",
       "      <td>3.755956e+01</td>\n",
       "    </tr>\n",
       "  </tbody>\n",
       "</table>\n",
       "</div>"
      ],
      "text/plain": [
       "                  0\n",
       "count  2.000000e+03\n",
       "mean   1.243450e-17\n",
       "std    1.000250e+00\n",
       "min   -6.113237e-02\n",
       "25%   -4.487943e-02\n",
       "50%   -4.043731e-02\n",
       "75%   -3.526354e-02\n",
       "max    3.755956e+01"
      ]
     },
     "execution_count": 26,
     "metadata": {},
     "output_type": "execute_result"
    }
   ],
   "source": [
    "# стандартизация признака (вычитание среднего и масштабирование дисперсией)\n",
    "scl = StandardScaler()\n",
    "pd.DataFrame(scl.fit_transform(ds_num['Site EUI (kBtu/ft²)'].values.reshape(-1,1))).describe()"
   ]
  },
  {
   "cell_type": "code",
   "execution_count": 27,
   "id": "dbcf5061",
   "metadata": {
    "hidden": true
   },
   "outputs": [
    {
     "data": {
      "text/html": [
       "<div>\n",
       "<style scoped>\n",
       "    .dataframe tbody tr th:only-of-type {\n",
       "        vertical-align: middle;\n",
       "    }\n",
       "\n",
       "    .dataframe tbody tr th {\n",
       "        vertical-align: top;\n",
       "    }\n",
       "\n",
       "    .dataframe thead th {\n",
       "        text-align: right;\n",
       "    }\n",
       "</style>\n",
       "<table border=\"1\" class=\"dataframe\">\n",
       "  <thead>\n",
       "    <tr style=\"text-align: right;\">\n",
       "      <th></th>\n",
       "      <th>0</th>\n",
       "    </tr>\n",
       "  </thead>\n",
       "  <tbody>\n",
       "    <tr>\n",
       "      <th>count</th>\n",
       "      <td>2000.000000</td>\n",
       "    </tr>\n",
       "    <tr>\n",
       "      <th>mean</th>\n",
       "      <td>4.205261</td>\n",
       "    </tr>\n",
       "    <tr>\n",
       "      <th>std</th>\n",
       "      <td>104.020589</td>\n",
       "    </tr>\n",
       "    <tr>\n",
       "      <th>min</th>\n",
       "      <td>-2.152174</td>\n",
       "    </tr>\n",
       "    <tr>\n",
       "      <th>25%</th>\n",
       "      <td>-0.461957</td>\n",
       "    </tr>\n",
       "    <tr>\n",
       "      <th>50%</th>\n",
       "      <td>0.000000</td>\n",
       "    </tr>\n",
       "    <tr>\n",
       "      <th>75%</th>\n",
       "      <td>0.538043</td>\n",
       "    </tr>\n",
       "    <tr>\n",
       "      <th>max</th>\n",
       "      <td>3910.195652</td>\n",
       "    </tr>\n",
       "  </tbody>\n",
       "</table>\n",
       "</div>"
      ],
      "text/plain": [
       "                 0\n",
       "count  2000.000000\n",
       "mean      4.205261\n",
       "std     104.020589\n",
       "min      -2.152174\n",
       "25%      -0.461957\n",
       "50%       0.000000\n",
       "75%       0.538043\n",
       "max    3910.195652"
      ]
     },
     "execution_count": 27,
     "metadata": {},
     "output_type": "execute_result"
    }
   ],
   "source": [
    "# стандартизация признака, однако преобразование происходит с помощью персантилей, тем самым снижается эффект выбросов\n",
    "scl = RobustScaler() \n",
    "pd.DataFrame(scl.fit_transform(ds_num['Site EUI (kBtu/ft²)'].values.reshape(-1,1))).describe()"
   ]
  }
 ],
 "metadata": {
  "kernelspec": {
   "display_name": "Python 3",
   "language": "python",
   "name": "python3"
  },
  "language_info": {
   "codemirror_mode": {
    "name": "ipython",
    "version": 3
   },
   "file_extension": ".py",
   "mimetype": "text/x-python",
   "name": "python",
   "nbconvert_exporter": "python",
   "pygments_lexer": "ipython3",
   "version": "3.9.4"
  }
 },
 "nbformat": 4,
 "nbformat_minor": 5
}
