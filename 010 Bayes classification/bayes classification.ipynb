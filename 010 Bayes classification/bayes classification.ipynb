{
 "cells": [
  {
   "cell_type": "code",
   "execution_count": 47,
   "id": "dfad8493",
   "metadata": {},
   "outputs": [],
   "source": [
    "import pandas as pd\n",
    "import numpy as np\n",
    "from sklearn.naive_bayes import BernoulliNB, GaussianNB\n",
    "from sklearn.metrics import roc_auc_score, confusion_matrix\n",
    "from sklearn.preprocessing import PowerTransformer\n",
    "from sklearn.model_selection import train_test_split, cross_val_score, GridSearchCV, StratifiedKFold\n",
    "import seaborn as sns\n",
    "import matplotlib.pyplot as plt\n",
    "\n",
    "%config InlineBackend.figure_format = 'retina' # для более четкой отрисовки графиков"
   ]
  },
  {
   "cell_type": "code",
   "execution_count": 13,
   "id": "6d764e5f",
   "metadata": {},
   "outputs": [
    {
     "name": "stdout",
     "output_type": "stream",
     "text": [
      "Размер датасета: (8166, 16)\n"
     ]
    }
   ],
   "source": [
    "ds = pd.read_excel('fire_dataset.xlsx', index_col=0)\n",
    "ds = ds.drop(['lon', 'lat', 'Dist_str', 'Dist_railw', 'Dist_car'], axis=1) # удалим признаки описывающие только термоточку\n",
    "print('Размер датасета: {}'.format(ds.shape))"
   ]
  },
  {
   "cell_type": "code",
   "execution_count": 14,
   "id": "b3d4a6e1",
   "metadata": {},
   "outputs": [
    {
     "data": {
      "text/html": [
       "<div>\n",
       "<style scoped>\n",
       "    .dataframe tbody tr th:only-of-type {\n",
       "        vertical-align: middle;\n",
       "    }\n",
       "\n",
       "    .dataframe tbody tr th {\n",
       "        vertical-align: top;\n",
       "    }\n",
       "\n",
       "    .dataframe thead th {\n",
       "        text-align: right;\n",
       "    }\n",
       "</style>\n",
       "<table border=\"1\" class=\"dataframe\">\n",
       "  <thead>\n",
       "    <tr style=\"text-align: right;\">\n",
       "      <th></th>\n",
       "      <th>area</th>\n",
       "      <th>T</th>\n",
       "      <th>Po</th>\n",
       "      <th>P</th>\n",
       "      <th>Pa</th>\n",
       "      <th>U</th>\n",
       "      <th>DD</th>\n",
       "      <th>Ff</th>\n",
       "      <th>N</th>\n",
       "      <th>WW</th>\n",
       "      <th>Cl</th>\n",
       "      <th>Nh</th>\n",
       "      <th>H</th>\n",
       "      <th>Cm</th>\n",
       "      <th>VV</th>\n",
       "      <th>Td</th>\n",
       "    </tr>\n",
       "  </thead>\n",
       "  <tbody>\n",
       "    <tr>\n",
       "      <th>2017-09-24 10:00:00</th>\n",
       "      <td>0</td>\n",
       "      <td>9.4</td>\n",
       "      <td>761.9</td>\n",
       "      <td>774.8</td>\n",
       "      <td>0.1</td>\n",
       "      <td>71</td>\n",
       "      <td>Ветер, дующий с востока</td>\n",
       "      <td>2</td>\n",
       "      <td>100%.</td>\n",
       "      <td>NaN</td>\n",
       "      <td>Слоисто-кучевые, образовавшиеся не из кучевых.</td>\n",
       "      <td>50%.</td>\n",
       "      <td>600-1000</td>\n",
       "      <td>Высококучевые просвечивающие, расположенные на...</td>\n",
       "      <td>10.0</td>\n",
       "      <td>4.3</td>\n",
       "    </tr>\n",
       "    <tr>\n",
       "      <th>2017-09-24 13:00:00</th>\n",
       "      <td>0</td>\n",
       "      <td>11.7</td>\n",
       "      <td>762.4</td>\n",
       "      <td>775.2</td>\n",
       "      <td>0.5</td>\n",
       "      <td>56</td>\n",
       "      <td>Ветер, дующий с северо-северо-востока</td>\n",
       "      <td>3</td>\n",
       "      <td>70 – 80%.</td>\n",
       "      <td>NaN</td>\n",
       "      <td>Слоисто-кучевые, образовавшиеся не из кучевых.</td>\n",
       "      <td>70 – 80%.</td>\n",
       "      <td>600-1000</td>\n",
       "      <td>Высококучевых, высокослоистых или слоисто-дожд...</td>\n",
       "      <td>10.0</td>\n",
       "      <td>3.1</td>\n",
       "    </tr>\n",
       "    <tr>\n",
       "      <th>2017-09-24 16:00:00</th>\n",
       "      <td>0</td>\n",
       "      <td>11.6</td>\n",
       "      <td>762.7</td>\n",
       "      <td>775.6</td>\n",
       "      <td>0.3</td>\n",
       "      <td>53</td>\n",
       "      <td>Ветер, дующий с северо-востока</td>\n",
       "      <td>2</td>\n",
       "      <td>70 – 80%.</td>\n",
       "      <td>NaN</td>\n",
       "      <td>Слоисто-кучевые, образовавшиеся не из кучевых.</td>\n",
       "      <td>70 – 80%.</td>\n",
       "      <td>600-1000</td>\n",
       "      <td>Высококучевых, высокослоистых или слоисто-дожд...</td>\n",
       "      <td>10.0</td>\n",
       "      <td>2.3</td>\n",
       "    </tr>\n",
       "    <tr>\n",
       "      <th>2017-09-24 19:00:00</th>\n",
       "      <td>0</td>\n",
       "      <td>7.7</td>\n",
       "      <td>763.3</td>\n",
       "      <td>776.4</td>\n",
       "      <td>0.6</td>\n",
       "      <td>64</td>\n",
       "      <td>Ветер, дующий с северо-востока</td>\n",
       "      <td>2</td>\n",
       "      <td>70 – 80%.</td>\n",
       "      <td>NaN</td>\n",
       "      <td>Кучево-дождевые лысые с кучевыми, слоисто-куче...</td>\n",
       "      <td>70 – 80%.</td>\n",
       "      <td>600-1000</td>\n",
       "      <td>Высококучевых, высокослоистых или слоисто-дожд...</td>\n",
       "      <td>10.0</td>\n",
       "      <td>1.2</td>\n",
       "    </tr>\n",
       "    <tr>\n",
       "      <th>2017-09-24 22:00:00</th>\n",
       "      <td>0</td>\n",
       "      <td>6.1</td>\n",
       "      <td>763.6</td>\n",
       "      <td>773.7</td>\n",
       "      <td>0.3</td>\n",
       "      <td>77</td>\n",
       "      <td>Ветер, дующий с севера</td>\n",
       "      <td>1</td>\n",
       "      <td>Облаков нет.</td>\n",
       "      <td>NaN</td>\n",
       "      <td>Кучево-дождевые лысые с кучевыми, слоисто-куче...</td>\n",
       "      <td>70 – 80%.</td>\n",
       "      <td>600-1000</td>\n",
       "      <td>Высококучевых, высокослоистых или слоисто-дожд...</td>\n",
       "      <td>10.0</td>\n",
       "      <td>2.3</td>\n",
       "    </tr>\n",
       "  </tbody>\n",
       "</table>\n",
       "</div>"
      ],
      "text/plain": [
       "                     area     T     Po      P   Pa   U  \\\n",
       "2017-09-24 10:00:00     0   9.4  761.9  774.8  0.1  71   \n",
       "2017-09-24 13:00:00     0  11.7  762.4  775.2  0.5  56   \n",
       "2017-09-24 16:00:00     0  11.6  762.7  775.6  0.3  53   \n",
       "2017-09-24 19:00:00     0   7.7  763.3  776.4  0.6  64   \n",
       "2017-09-24 22:00:00     0   6.1  763.6  773.7  0.3  77   \n",
       "\n",
       "                                                        DD  Ff             N  \\\n",
       "2017-09-24 10:00:00                Ветер, дующий с востока   2         100%.   \n",
       "2017-09-24 13:00:00  Ветер, дующий с северо-северо-востока   3     70 – 80%.   \n",
       "2017-09-24 16:00:00         Ветер, дующий с северо-востока   2     70 – 80%.   \n",
       "2017-09-24 19:00:00         Ветер, дующий с северо-востока   2     70 – 80%.   \n",
       "2017-09-24 22:00:00                 Ветер, дующий с севера   1  Облаков нет.   \n",
       "\n",
       "                      WW                                                 Cl  \\\n",
       "2017-09-24 10:00:00  NaN     Слоисто-кучевые, образовавшиеся не из кучевых.   \n",
       "2017-09-24 13:00:00  NaN     Слоисто-кучевые, образовавшиеся не из кучевых.   \n",
       "2017-09-24 16:00:00  NaN     Слоисто-кучевые, образовавшиеся не из кучевых.   \n",
       "2017-09-24 19:00:00  NaN  Кучево-дождевые лысые с кучевыми, слоисто-куче...   \n",
       "2017-09-24 22:00:00  NaN  Кучево-дождевые лысые с кучевыми, слоисто-куче...   \n",
       "\n",
       "                            Nh         H  \\\n",
       "2017-09-24 10:00:00       50%.  600-1000   \n",
       "2017-09-24 13:00:00  70 – 80%.  600-1000   \n",
       "2017-09-24 16:00:00  70 – 80%.  600-1000   \n",
       "2017-09-24 19:00:00  70 – 80%.  600-1000   \n",
       "2017-09-24 22:00:00  70 – 80%.  600-1000   \n",
       "\n",
       "                                                                    Cm    VV  \\\n",
       "2017-09-24 10:00:00  Высококучевые просвечивающие, расположенные на...  10.0   \n",
       "2017-09-24 13:00:00  Высококучевых, высокослоистых или слоисто-дожд...  10.0   \n",
       "2017-09-24 16:00:00  Высококучевых, высокослоистых или слоисто-дожд...  10.0   \n",
       "2017-09-24 19:00:00  Высококучевых, высокослоистых или слоисто-дожд...  10.0   \n",
       "2017-09-24 22:00:00  Высококучевых, высокослоистых или слоисто-дожд...  10.0   \n",
       "\n",
       "                      Td  \n",
       "2017-09-24 10:00:00  4.3  \n",
       "2017-09-24 13:00:00  3.1  \n",
       "2017-09-24 16:00:00  2.3  \n",
       "2017-09-24 19:00:00  1.2  \n",
       "2017-09-24 22:00:00  2.3  "
      ]
     },
     "execution_count": 14,
     "metadata": {},
     "output_type": "execute_result"
    }
   ],
   "source": [
    "ds.head()"
   ]
  },
  {
   "cell_type": "code",
   "execution_count": 15,
   "id": "2608b298",
   "metadata": {},
   "outputs": [],
   "source": [
    "ds = ds.rename(columns={'area':'target'}) # переименую целевую переменную"
   ]
  },
  {
   "cell_type": "code",
   "execution_count": 19,
   "id": "cb2a2b27",
   "metadata": {},
   "outputs": [],
   "source": [
    "# создадим временные фичи\n",
    "ds['month'] = ds.index.month\n",
    "ds['day'] = ds.index.day\n",
    "ds['weekday'] = ds.index.day_of_week"
   ]
  },
  {
   "cell_type": "code",
   "execution_count": 5,
   "id": "f5c61b78",
   "metadata": {},
   "outputs": [
    {
     "data": {
      "image/png": "[encoded data removed]",
      "text/plain": [
       "<Figure size 432x288 with 1 Axes>"
      ]
     },
     "metadata": {
      "image/png": {
       "height": 277,
       "width": 395
      },
      "needs_background": "light"
     },
     "output_type": "display_data"
    }
   ],
   "source": [
    "sns.countplot(x=ds['target']).set_title('Распределение целевого признака');"
   ]
  },
  {
   "cell_type": "code",
   "execution_count": 20,
   "id": "51556b4e",
   "metadata": {},
   "outputs": [],
   "source": [
    "num_cols = ds.drop(['target'], axis=1).select_dtypes(exclude='O').columns # числовые признаки\n",
    "cat_cols = ds.select_dtypes(include='O').columns # категориальнве признаки"
   ]
  },
  {
   "cell_type": "code",
   "execution_count": 21,
   "id": "759a3642",
   "metadata": {},
   "outputs": [
    {
     "data": {
      "text/plain": [
       "target        0\n",
       "T             0\n",
       "Po            0\n",
       "P             0\n",
       "Pa            0\n",
       "U             0\n",
       "DD            0\n",
       "Ff            0\n",
       "N             0\n",
       "WW         5831\n",
       "Cl            0\n",
       "Nh            0\n",
       "H             0\n",
       "Cm            0\n",
       "VV            0\n",
       "Td            0\n",
       "month         0\n",
       "day           0\n",
       "weekday       0\n",
       "dtype: int64"
      ]
     },
     "execution_count": 21,
     "metadata": {},
     "output_type": "execute_result"
    }
   ],
   "source": [
    "ds.isna().sum() # кол-во пропушенных элементов"
   ]
  },
  {
   "cell_type": "code",
   "execution_count": 22,
   "id": "bafb1727",
   "metadata": {},
   "outputs": [],
   "source": [
    "ds.drop(['WW'], axis=1, inplace=True) # нет больше половины данных --> удалим признак"
   ]
  },
  {
   "cell_type": "code",
   "execution_count": 23,
   "id": "9ed41e50",
   "metadata": {},
   "outputs": [],
   "source": [
    "ds = pd.get_dummies(ds) # преобразуем категориальные признаки"
   ]
  },
  {
   "cell_type": "code",
   "execution_count": 24,
   "id": "e18ee5a1",
   "metadata": {},
   "outputs": [],
   "source": [
    "x_train, x_test, y_train, y_test = train_test_split(ds.drop(['target'], axis=1), \n",
    "                                                    ds['target'],\n",
    "                                                    test_size=0.3\n",
    "                                                   ) # разделим на тренировочную и тестовую выборки"
   ]
  },
  {
   "cell_type": "code",
   "execution_count": 25,
   "id": "9c20bc77",
   "metadata": {},
   "outputs": [],
   "source": [
    "transformer = PowerTransformer(standardize=True)\n",
    "x_train[num_cols] = transformer.fit_transform(x_train[num_cols]) # нормализуем и стандартизуем числовые переменные\n",
    "x_test[num_cols] = transformer.transform(x_test[num_cols]) # нормализуем и стандартизуем числовые переменные"
   ]
  },
  {
   "cell_type": "code",
   "execution_count": 52,
   "id": "b756edb9",
   "metadata": {},
   "outputs": [
    {
     "data": {
      "text/html": [
       "<div>\n",
       "<style scoped>\n",
       "    .dataframe tbody tr th:only-of-type {\n",
       "        vertical-align: middle;\n",
       "    }\n",
       "\n",
       "    .dataframe tbody tr th {\n",
       "        vertical-align: top;\n",
       "    }\n",
       "\n",
       "    .dataframe thead th {\n",
       "        text-align: right;\n",
       "    }\n",
       "</style>\n",
       "<table border=\"1\" class=\"dataframe\">\n",
       "  <thead>\n",
       "    <tr style=\"text-align: right;\">\n",
       "      <th></th>\n",
       "      <th>T</th>\n",
       "      <th>Po</th>\n",
       "      <th>P</th>\n",
       "      <th>Pa</th>\n",
       "      <th>U</th>\n",
       "      <th>Ff</th>\n",
       "      <th>VV</th>\n",
       "      <th>Td</th>\n",
       "      <th>month</th>\n",
       "      <th>day</th>\n",
       "      <th>...</th>\n",
       "      <th>H_300-600</th>\n",
       "      <th>H_600-1000</th>\n",
       "      <th>Cm_Высококучевые башенкообразные или хлопьевидные.</th>\n",
       "      <th>Cm_Высококучевые просвечивающие, полосами, либо один или несколько слоев высококучевых просвечивающих, распространяющихся по небу; эти высококучевые в целом уплотняются.</th>\n",
       "      <th>Cm_Высококучевые просвечивающие, расположенные на одном уровне.</th>\n",
       "      <th>Cm_Высококучевые, образовавшиеся из кучевых (или кучево-дождевых).</th>\n",
       "      <th>Cm_Высококучевые, просвечивающие или плотные в двух или более слоях или высококучевые плотные в одном слое, не распространяющиеся но небу, либо высококучевые с высокослоистыми или слоисто-дождевыми.</th>\n",
       "      <th>Cm_Высококучевых, высокослоистых или слоисто-дождевых облаков нет.</th>\n",
       "      <th>Cm_Высокослоистые непросвечивающие или слоисто-дождевые.</th>\n",
       "      <th>Cm_Высокослоистые просвечивающие.</th>\n",
       "    </tr>\n",
       "  </thead>\n",
       "  <tbody>\n",
       "    <tr>\n",
       "      <th>2018-07-16 13:00:00</th>\n",
       "      <td>2.023764</td>\n",
       "      <td>-0.915016</td>\n",
       "      <td>-1.035821</td>\n",
       "      <td>-0.605945</td>\n",
       "      <td>-1.422497</td>\n",
       "      <td>0.168999</td>\n",
       "      <td>0.239080</td>\n",
       "      <td>1.848390</td>\n",
       "      <td>0.175782</td>\n",
       "      <td>0.135259</td>\n",
       "      <td>...</td>\n",
       "      <td>0</td>\n",
       "      <td>1</td>\n",
       "      <td>0</td>\n",
       "      <td>0</td>\n",
       "      <td>0</td>\n",
       "      <td>0</td>\n",
       "      <td>0</td>\n",
       "      <td>1</td>\n",
       "      <td>0</td>\n",
       "      <td>0</td>\n",
       "    </tr>\n",
       "    <tr>\n",
       "      <th>2017-11-11 01:00:00</th>\n",
       "      <td>-0.553119</td>\n",
       "      <td>0.999258</td>\n",
       "      <td>1.014024</td>\n",
       "      <td>-0.008413</td>\n",
       "      <td>0.930613</td>\n",
       "      <td>0.168999</td>\n",
       "      <td>0.239080</td>\n",
       "      <td>-0.323805</td>\n",
       "      <td>1.183476</td>\n",
       "      <td>-0.415163</td>\n",
       "      <td>...</td>\n",
       "      <td>0</td>\n",
       "      <td>1</td>\n",
       "      <td>0</td>\n",
       "      <td>0</td>\n",
       "      <td>1</td>\n",
       "      <td>0</td>\n",
       "      <td>0</td>\n",
       "      <td>0</td>\n",
       "      <td>0</td>\n",
       "      <td>0</td>\n",
       "    </tr>\n",
       "    <tr>\n",
       "      <th>2018-03-22 13:00:00</th>\n",
       "      <td>-0.628887</td>\n",
       "      <td>-1.970548</td>\n",
       "      <td>-1.891325</td>\n",
       "      <td>0.392219</td>\n",
       "      <td>0.692286</td>\n",
       "      <td>0.168999</td>\n",
       "      <td>-2.219592</td>\n",
       "      <td>-0.482943</td>\n",
       "      <td>-0.994862</td>\n",
       "      <td>0.737597</td>\n",
       "      <td>...</td>\n",
       "      <td>0</td>\n",
       "      <td>1</td>\n",
       "      <td>0</td>\n",
       "      <td>0</td>\n",
       "      <td>1</td>\n",
       "      <td>0</td>\n",
       "      <td>0</td>\n",
       "      <td>0</td>\n",
       "      <td>0</td>\n",
       "      <td>0</td>\n",
       "    </tr>\n",
       "    <tr>\n",
       "      <th>2020-03-14 16:00:00</th>\n",
       "      <td>-0.267090</td>\n",
       "      <td>-1.268883</td>\n",
       "      <td>-1.223242</td>\n",
       "      <td>-1.299306</td>\n",
       "      <td>1.430141</td>\n",
       "      <td>-0.853567</td>\n",
       "      <td>-2.219592</td>\n",
       "      <td>0.140696</td>\n",
       "      <td>-0.994862</td>\n",
       "      <td>-0.078471</td>\n",
       "      <td>...</td>\n",
       "      <td>1</td>\n",
       "      <td>0</td>\n",
       "      <td>0</td>\n",
       "      <td>0</td>\n",
       "      <td>0</td>\n",
       "      <td>0</td>\n",
       "      <td>0</td>\n",
       "      <td>0</td>\n",
       "      <td>1</td>\n",
       "      <td>0</td>\n",
       "    </tr>\n",
       "    <tr>\n",
       "      <th>2020-05-15 04:00:00</th>\n",
       "      <td>0.028195</td>\n",
       "      <td>-0.255048</td>\n",
       "      <td>-0.236763</td>\n",
       "      <td>-0.506600</td>\n",
       "      <td>0.633914</td>\n",
       "      <td>-2.114314</td>\n",
       "      <td>0.239080</td>\n",
       "      <td>0.318940</td>\n",
       "      <td>-0.381193</td>\n",
       "      <td>0.029347</td>\n",
       "      <td>...</td>\n",
       "      <td>0</td>\n",
       "      <td>0</td>\n",
       "      <td>0</td>\n",
       "      <td>0</td>\n",
       "      <td>0</td>\n",
       "      <td>0</td>\n",
       "      <td>0</td>\n",
       "      <td>1</td>\n",
       "      <td>0</td>\n",
       "      <td>0</td>\n",
       "    </tr>\n",
       "  </tbody>\n",
       "</table>\n",
       "<p>5 rows × 71 columns</p>\n",
       "</div>"
      ],
      "text/plain": [
       "                            T        Po         P        Pa         U  \\\n",
       "2018-07-16 13:00:00  2.023764 -0.915016 -1.035821 -0.605945 -1.422497   \n",
       "2017-11-11 01:00:00 -0.553119  0.999258  1.014024 -0.008413  0.930613   \n",
       "2018-03-22 13:00:00 -0.628887 -1.970548 -1.891325  0.392219  0.692286   \n",
       "2020-03-14 16:00:00 -0.267090 -1.268883 -1.223242 -1.299306  1.430141   \n",
       "2020-05-15 04:00:00  0.028195 -0.255048 -0.236763 -0.506600  0.633914   \n",
       "\n",
       "                           Ff        VV        Td     month       day  ...  \\\n",
       "2018-07-16 13:00:00  0.168999  0.239080  1.848390  0.175782  0.135259  ...   \n",
       "2017-11-11 01:00:00  0.168999  0.239080 -0.323805  1.183476 -0.415163  ...   \n",
       "2018-03-22 13:00:00  0.168999 -2.219592 -0.482943 -0.994862  0.737597  ...   \n",
       "2020-03-14 16:00:00 -0.853567 -2.219592  0.140696 -0.994862 -0.078471  ...   \n",
       "2020-05-15 04:00:00 -2.114314  0.239080  0.318940 -0.381193  0.029347  ...   \n",
       "\n",
       "                     H_300-600  H_600-1000  \\\n",
       "2018-07-16 13:00:00          0           1   \n",
       "2017-11-11 01:00:00          0           1   \n",
       "2018-03-22 13:00:00          0           1   \n",
       "2020-03-14 16:00:00          1           0   \n",
       "2020-05-15 04:00:00          0           0   \n",
       "\n",
       "                     Cm_Высококучевые башенкообразные или хлопьевидные.  \\\n",
       "2018-07-16 13:00:00                                                  0    \n",
       "2017-11-11 01:00:00                                                  0    \n",
       "2018-03-22 13:00:00                                                  0    \n",
       "2020-03-14 16:00:00                                                  0    \n",
       "2020-05-15 04:00:00                                                  0    \n",
       "\n",
       "                     Cm_Высококучевые просвечивающие, полосами, либо один или несколько слоев высококучевых просвечивающих, распространяющихся по небу; эти высококучевые в целом уплотняются.  \\\n",
       "2018-07-16 13:00:00                                                  0                                                                                                                           \n",
       "2017-11-11 01:00:00                                                  0                                                                                                                           \n",
       "2018-03-22 13:00:00                                                  0                                                                                                                           \n",
       "2020-03-14 16:00:00                                                  0                                                                                                                           \n",
       "2020-05-15 04:00:00                                                  0                                                                                                                           \n",
       "\n",
       "                     Cm_Высококучевые просвечивающие, расположенные на одном уровне.  \\\n",
       "2018-07-16 13:00:00                                                  0                 \n",
       "2017-11-11 01:00:00                                                  1                 \n",
       "2018-03-22 13:00:00                                                  1                 \n",
       "2020-03-14 16:00:00                                                  0                 \n",
       "2020-05-15 04:00:00                                                  0                 \n",
       "\n",
       "                     Cm_Высококучевые, образовавшиеся из кучевых (или кучево-дождевых).  \\\n",
       "2018-07-16 13:00:00                                                  0                    \n",
       "2017-11-11 01:00:00                                                  0                    \n",
       "2018-03-22 13:00:00                                                  0                    \n",
       "2020-03-14 16:00:00                                                  0                    \n",
       "2020-05-15 04:00:00                                                  0                    \n",
       "\n",
       "                     Cm_Высококучевые, просвечивающие или плотные в двух или более слоях или высококучевые плотные в одном слое, не распространяющиеся но небу, либо высококучевые с высокослоистыми или слоисто-дождевыми.  \\\n",
       "2018-07-16 13:00:00                                                  0                                                                                                                                                        \n",
       "2017-11-11 01:00:00                                                  0                                                                                                                                                        \n",
       "2018-03-22 13:00:00                                                  0                                                                                                                                                        \n",
       "2020-03-14 16:00:00                                                  0                                                                                                                                                        \n",
       "2020-05-15 04:00:00                                                  0                                                                                                                                                        \n",
       "\n",
       "                     Cm_Высококучевых, высокослоистых или слоисто-дождевых облаков нет.  \\\n",
       "2018-07-16 13:00:00                                                  1                    \n",
       "2017-11-11 01:00:00                                                  0                    \n",
       "2018-03-22 13:00:00                                                  0                    \n",
       "2020-03-14 16:00:00                                                  0                    \n",
       "2020-05-15 04:00:00                                                  1                    \n",
       "\n",
       "                     Cm_Высокослоистые непросвечивающие или слоисто-дождевые.  \\\n",
       "2018-07-16 13:00:00                                                  0          \n",
       "2017-11-11 01:00:00                                                  0          \n",
       "2018-03-22 13:00:00                                                  0          \n",
       "2020-03-14 16:00:00                                                  1          \n",
       "2020-05-15 04:00:00                                                  0          \n",
       "\n",
       "                     Cm_Высокослоистые просвечивающие.  \n",
       "2018-07-16 13:00:00                                  0  \n",
       "2017-11-11 01:00:00                                  0  \n",
       "2018-03-22 13:00:00                                  0  \n",
       "2020-03-14 16:00:00                                  0  \n",
       "2020-05-15 04:00:00                                  0  \n",
       "\n",
       "[5 rows x 71 columns]"
      ]
     },
     "execution_count": 52,
     "metadata": {},
     "output_type": "execute_result"
    }
   ],
   "source": [
    "x_train.head()"
   ]
  },
  {
   "cell_type": "code",
   "execution_count": 34,
   "id": "42e20bc6",
   "metadata": {},
   "outputs": [],
   "source": [
    "def get_cross_val_score(x, y, model, cv):\n",
    "    \"\"\"Функция для оценки модели на кросс-валидации\"\"\"\n",
    "    cv_score = cross_val_score(model, x, y, scoring='roc_auc', cv=cv, n_jobs=-1) # прогоняем модель на кросс-валидации\n",
    "    print(model.__class__.__name__)\n",
    "    print('ROC-AUC на кросс-валидации: %.3f+-%.3f'% (np.mean(cv_score), np.std(cv_score)))"
   ]
  },
  {
   "cell_type": "code",
   "execution_count": 36,
   "id": "bdc00f10",
   "metadata": {},
   "outputs": [
    {
     "name": "stdout",
     "output_type": "stream",
     "text": [
      "BernoulliNB\n",
      "Точность модели на кросс-валидации: 0.775+-0.040\n",
      "GaussianNB\n",
      "Точность модели на кросс-валидации: 0.582+-0.015\n"
     ]
    }
   ],
   "source": [
    "skf = StratifiedKFold(n_splits=7) # схема для кросс-валидации\n",
    "\n",
    "for model in [\n",
    "    BernoulliNB(),\n",
    "    GaussianNB(),\n",
    "]:\n",
    "    get_cross_val_score(x_train, y_train, model, skf) # получим результаты на кросс-валидации\n",
    "    "
   ]
  },
  {
   "cell_type": "code",
   "execution_count": 39,
   "id": "b547635c",
   "metadata": {},
   "outputs": [
    {
     "data": {
      "text/plain": [
       "GridSearchCV(cv=StratifiedKFold(n_splits=7, random_state=None, shuffle=False),\n",
       "             estimator=BernoulliNB(), n_jobs=-1,\n",
       "             param_grid={'alpha': (0.1, 1, 2), 'binarize': (0, 0.1, 0.1)},\n",
       "             scoring='roc_auc')"
      ]
     },
     "execution_count": 39,
     "metadata": {},
     "output_type": "execute_result"
    }
   ],
   "source": [
    "model = BernoulliNB()\n",
    "params = {'alpha': (0.1, 1, 2), 'binarize': (0, 0.1, 0.1)} # параметры для подбора\n",
    "model_grid = GridSearchCV(model, param_grid=params, scoring='roc_auc', n_jobs=-1, cv=skf)\n",
    "model_grid.fit(x_train, y_train)"
   ]
  },
  {
   "cell_type": "code",
   "execution_count": 44,
   "id": "7104ebb8",
   "metadata": {},
   "outputs": [
    {
     "name": "stdout",
     "output_type": "stream",
     "text": [
      "Лучшая модель на кросс-валидации с параметрами {'alpha': 0.1, 'binarize': 0.1} и ROC_AUC = 0.7821\n"
     ]
    }
   ],
   "source": [
    "print('Лучшая модель на кросс-валидации с параметрами {} и ROC_AUC = {}'.format(model_grid.best_params_, \n",
    "                                                                        np.round(model_grid.best_score_,4)))\n",
    "\n",
    "best_model = model_grid.best_estimator_"
   ]
  },
  {
   "cell_type": "code",
   "execution_count": 45,
   "id": "d1f3fc5a",
   "metadata": {},
   "outputs": [
    {
     "name": "stdout",
     "output_type": "stream",
     "text": [
      "ROC-AUC на тестовой выборке: 0.659\n"
     ]
    }
   ],
   "source": [
    "best_model.fit(x_train, y_train)\n",
    "print('ROC-AUC на тестовой выборке: %.3f' % roc_auc_score(y_test, best_model.predict(x_test)))"
   ]
  },
  {
   "cell_type": "code",
   "execution_count": 55,
   "id": "172c471f",
   "metadata": {},
   "outputs": [
    {
     "data": {
      "image/png": "[encoded data removed]",
      "text/plain": [
       "<Figure size 432x288 with 2 Axes>"
      ]
     },
     "metadata": {
      "image/png": {
       "height": 271,
       "width": 388
      }
     },
     "output_type": "display_data"
    }
   ],
   "source": [
    "sns.set(font_scale=1.2)\n",
    "sns.heatmap(confusion_matrix(y_test, best_model.predict(x_test)), \n",
    "            annot=True, \n",
    "            fmt = '.0f',\n",
    "            linewidths=0.1,\n",
    "            linecolor='black'\n",
    "           )\n",
    "plt.xlabel('Предсказание модели')\n",
    "plt.ylabel('Реальность');"
   ]
  },
  {
   "cell_type": "code",
   "execution_count": null,
   "id": "b3426a53",
   "metadata": {},
   "outputs": [],
   "source": []
  },
  {
   "cell_type": "code",
   "execution_count": null,
   "id": "30d4dd85",
   "metadata": {},
   "outputs": [],
   "source": []
  }
 ],
 "metadata": {
  "kernelspec": {
   "display_name": "Python 3",
   "language": "python",
   "name": "python3"
  },
  "language_info": {
   "codemirror_mode": {
    "name": "ipython",
    "version": 3
   },
   "file_extension": ".py",
   "mimetype": "text/x-python",
   "name": "python",
   "nbconvert_exporter": "python",
   "pygments_lexer": "ipython3",
   "version": "3.9.4"
  }
 },
 "nbformat": 4,
 "nbformat_minor": 5
}
