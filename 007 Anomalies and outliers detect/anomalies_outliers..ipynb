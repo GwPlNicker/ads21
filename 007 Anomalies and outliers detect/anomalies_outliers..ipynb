{
 "cells": [
  {
   "cell_type": "code",
   "execution_count": 1,
   "id": "e895121c",
   "metadata": {},
   "outputs": [],
   "source": [
    "import numpy as np\n",
    "import pandas as pd\n",
    "import seaborn as sns\n",
    "import matplotlib.pyplot as plt\n",
    "import numpy as np"
   ]
  },
  {
   "cell_type": "code",
   "execution_count": 2,
   "id": "9fb225e0",
   "metadata": {},
   "outputs": [
    {
     "name": "stdout",
     "output_type": "stream",
     "text": [
      "Размер датасета: (8166, 16)\n"
     ]
    }
   ],
   "source": [
    "ds = pd.read_excel('fire_dataset_bin.xlsx', index_col=0)\n",
    "ds = ds.drop(['lon', 'lat', 'Dist_str', 'Dist_railw', 'Dist_car'], axis=1) # удалим признаки описывающие только термоточку\n",
    "print('Размер датасета: {}'.format(ds.shape))"
   ]
  },
  {
   "cell_type": "code",
   "execution_count": 3,
   "id": "c7617e93",
   "metadata": {},
   "outputs": [
    {
     "data": {
      "text/html": [
       "<div>\n",
       "<style scoped>\n",
       "    .dataframe tbody tr th:only-of-type {\n",
       "        vertical-align: middle;\n",
       "    }\n",
       "\n",
       "    .dataframe tbody tr th {\n",
       "        vertical-align: top;\n",
       "    }\n",
       "\n",
       "    .dataframe thead th {\n",
       "        text-align: right;\n",
       "    }\n",
       "</style>\n",
       "<table border=\"1\" class=\"dataframe\">\n",
       "  <thead>\n",
       "    <tr style=\"text-align: right;\">\n",
       "      <th></th>\n",
       "      <th>index</th>\n",
       "      <th>area</th>\n",
       "      <th>T</th>\n",
       "      <th>Po</th>\n",
       "      <th>P</th>\n",
       "      <th>Pa</th>\n",
       "      <th>U</th>\n",
       "      <th>DD</th>\n",
       "      <th>Ff</th>\n",
       "      <th>N</th>\n",
       "      <th>WW</th>\n",
       "      <th>Cl</th>\n",
       "      <th>Nh</th>\n",
       "      <th>H</th>\n",
       "      <th>Cm</th>\n",
       "      <th>VV</th>\n",
       "      <th>Td</th>\n",
       "    </tr>\n",
       "  </thead>\n",
       "  <tbody>\n",
       "    <tr>\n",
       "      <th>0</th>\n",
       "      <td>2017-09-24 10:00:00</td>\n",
       "      <td>0</td>\n",
       "      <td>9.4</td>\n",
       "      <td>761.9</td>\n",
       "      <td>774.8</td>\n",
       "      <td>0.1</td>\n",
       "      <td>71</td>\n",
       "      <td>Ветер, дующий с востока</td>\n",
       "      <td>2</td>\n",
       "      <td>100%.</td>\n",
       "      <td>NaN</td>\n",
       "      <td>Слоисто-кучевые, образовавшиеся не из кучевых.</td>\n",
       "      <td>50%.</td>\n",
       "      <td>600-1000</td>\n",
       "      <td>Высококучевые просвечивающие, расположенные на...</td>\n",
       "      <td>10.0</td>\n",
       "      <td>4.3</td>\n",
       "    </tr>\n",
       "    <tr>\n",
       "      <th>1</th>\n",
       "      <td>2017-09-24 13:00:00</td>\n",
       "      <td>0</td>\n",
       "      <td>11.7</td>\n",
       "      <td>762.4</td>\n",
       "      <td>775.2</td>\n",
       "      <td>0.5</td>\n",
       "      <td>56</td>\n",
       "      <td>Ветер, дующий с северо-северо-востока</td>\n",
       "      <td>3</td>\n",
       "      <td>70 – 80%.</td>\n",
       "      <td>NaN</td>\n",
       "      <td>Слоисто-кучевые, образовавшиеся не из кучевых.</td>\n",
       "      <td>70 – 80%.</td>\n",
       "      <td>600-1000</td>\n",
       "      <td>Высококучевых, высокослоистых или слоисто-дожд...</td>\n",
       "      <td>10.0</td>\n",
       "      <td>3.1</td>\n",
       "    </tr>\n",
       "    <tr>\n",
       "      <th>2</th>\n",
       "      <td>2017-09-24 16:00:00</td>\n",
       "      <td>0</td>\n",
       "      <td>11.6</td>\n",
       "      <td>762.7</td>\n",
       "      <td>775.6</td>\n",
       "      <td>0.3</td>\n",
       "      <td>53</td>\n",
       "      <td>Ветер, дующий с северо-востока</td>\n",
       "      <td>2</td>\n",
       "      <td>70 – 80%.</td>\n",
       "      <td>NaN</td>\n",
       "      <td>Слоисто-кучевые, образовавшиеся не из кучевых.</td>\n",
       "      <td>70 – 80%.</td>\n",
       "      <td>600-1000</td>\n",
       "      <td>Высококучевых, высокослоистых или слоисто-дожд...</td>\n",
       "      <td>10.0</td>\n",
       "      <td>2.3</td>\n",
       "    </tr>\n",
       "    <tr>\n",
       "      <th>3</th>\n",
       "      <td>2017-09-24 19:00:00</td>\n",
       "      <td>0</td>\n",
       "      <td>7.7</td>\n",
       "      <td>763.3</td>\n",
       "      <td>776.4</td>\n",
       "      <td>0.6</td>\n",
       "      <td>64</td>\n",
       "      <td>Ветер, дующий с северо-востока</td>\n",
       "      <td>2</td>\n",
       "      <td>70 – 80%.</td>\n",
       "      <td>NaN</td>\n",
       "      <td>Кучево-дождевые лысые с кучевыми, слоисто-куче...</td>\n",
       "      <td>70 – 80%.</td>\n",
       "      <td>600-1000</td>\n",
       "      <td>Высококучевых, высокослоистых или слоисто-дожд...</td>\n",
       "      <td>10.0</td>\n",
       "      <td>1.2</td>\n",
       "    </tr>\n",
       "    <tr>\n",
       "      <th>4</th>\n",
       "      <td>2017-09-24 22:00:00</td>\n",
       "      <td>0</td>\n",
       "      <td>6.1</td>\n",
       "      <td>763.6</td>\n",
       "      <td>773.7</td>\n",
       "      <td>0.3</td>\n",
       "      <td>77</td>\n",
       "      <td>Ветер, дующий с севера</td>\n",
       "      <td>1</td>\n",
       "      <td>Облаков нет.</td>\n",
       "      <td>NaN</td>\n",
       "      <td>Кучево-дождевые лысые с кучевыми, слоисто-куче...</td>\n",
       "      <td>70 – 80%.</td>\n",
       "      <td>600-1000</td>\n",
       "      <td>Высококучевых, высокослоистых или слоисто-дожд...</td>\n",
       "      <td>10.0</td>\n",
       "      <td>2.3</td>\n",
       "    </tr>\n",
       "  </tbody>\n",
       "</table>\n",
       "</div>"
      ],
      "text/plain": [
       "                index  area     T     Po      P   Pa   U  \\\n",
       "0 2017-09-24 10:00:00     0   9.4  761.9  774.8  0.1  71   \n",
       "1 2017-09-24 13:00:00     0  11.7  762.4  775.2  0.5  56   \n",
       "2 2017-09-24 16:00:00     0  11.6  762.7  775.6  0.3  53   \n",
       "3 2017-09-24 19:00:00     0   7.7  763.3  776.4  0.6  64   \n",
       "4 2017-09-24 22:00:00     0   6.1  763.6  773.7  0.3  77   \n",
       "\n",
       "                                      DD  Ff             N   WW  \\\n",
       "0                Ветер, дующий с востока   2         100%.  NaN   \n",
       "1  Ветер, дующий с северо-северо-востока   3     70 – 80%.  NaN   \n",
       "2         Ветер, дующий с северо-востока   2     70 – 80%.  NaN   \n",
       "3         Ветер, дующий с северо-востока   2     70 – 80%.  NaN   \n",
       "4                 Ветер, дующий с севера   1  Облаков нет.  NaN   \n",
       "\n",
       "                                                  Cl         Nh         H  \\\n",
       "0     Слоисто-кучевые, образовавшиеся не из кучевых.       50%.  600-1000   \n",
       "1     Слоисто-кучевые, образовавшиеся не из кучевых.  70 – 80%.  600-1000   \n",
       "2     Слоисто-кучевые, образовавшиеся не из кучевых.  70 – 80%.  600-1000   \n",
       "3  Кучево-дождевые лысые с кучевыми, слоисто-куче...  70 – 80%.  600-1000   \n",
       "4  Кучево-дождевые лысые с кучевыми, слоисто-куче...  70 – 80%.  600-1000   \n",
       "\n",
       "                                                  Cm    VV   Td  \n",
       "0  Высококучевые просвечивающие, расположенные на...  10.0  4.3  \n",
       "1  Высококучевых, высокослоистых или слоисто-дожд...  10.0  3.1  \n",
       "2  Высококучевых, высокослоистых или слоисто-дожд...  10.0  2.3  \n",
       "3  Высококучевых, высокослоистых или слоисто-дожд...  10.0  1.2  \n",
       "4  Высококучевых, высокослоистых или слоисто-дожд...  10.0  2.3  "
      ]
     },
     "execution_count": 3,
     "metadata": {},
     "output_type": "execute_result"
    }
   ],
   "source": [
    "ds = ds.reset_index()\n",
    "ds.head()"
   ]
  },
  {
   "cell_type": "code",
   "execution_count": 18,
   "id": "9de6b482",
   "metadata": {},
   "outputs": [],
   "source": [
    "ds.loc[49, 'T'] = -40\n",
    "ds.loc[2756, 'T'] = 60"
   ]
  },
  {
   "cell_type": "markdown",
   "id": "99c97f9d",
   "metadata": {},
   "source": [
    "## Поиск аномалий в признаке"
   ]
  },
  {
   "cell_type": "markdown",
   "id": "34e1246a",
   "metadata": {},
   "source": [
    "Аномалии в виде точек за усами графика (значения вне интерквартильного интервала) :"
   ]
  },
  {
   "cell_type": "code",
   "execution_count": 19,
   "id": "82a26da2",
   "metadata": {},
   "outputs": [
    {
     "data": {
      "image/png": "[encoded data removed]",
      "text/plain": [
       "<Figure size 432x288 with 1 Axes>"
      ]
     },
     "metadata": {
      "needs_background": "light"
     },
     "output_type": "display_data"
    },
    {
     "data": {
      "image/png": "[encoded data removed]",
      "text/plain": [
       "<Figure size 432x288 with 1 Axes>"
      ]
     },
     "metadata": {
      "needs_background": "light"
     },
     "output_type": "display_data"
    },
    {
     "data": {
      "image/png": "[encoded data removed]",
      "text/plain": [
       "<Figure size 432x288 with 1 Axes>"
      ]
     },
     "metadata": {
      "needs_background": "light"
     },
     "output_type": "display_data"
    },
    {
     "data": {
      "image/png": "[encoded data removed]",
      "text/plain": [
       "<Figure size 432x288 with 1 Axes>"
      ]
     },
     "metadata": {
      "needs_background": "light"
     },
     "output_type": "display_data"
    },
    {
     "data": {
      "image/png": "[encoded data removed]",
      "text/plain": [
       "<Figure size 432x288 with 1 Axes>"
      ]
     },
     "metadata": {
      "needs_background": "light"
     },
     "output_type": "display_data"
    },
    {
     "data": {
      "image/png": "[encoded data removed]",
      "text/plain": [
       "<Figure size 432x288 with 1 Axes>"
      ]
     },
     "metadata": {
      "needs_background": "light"
     },
     "output_type": "display_data"
    },
    {
     "data": {
      "image/png": "[encoded data removed]",
      "text/plain": [
       "<Figure size 432x288 with 1 Axes>"
      ]
     },
     "metadata": {
      "needs_background": "light"
     },
     "output_type": "display_data"
    },
    {
     "data": {
      "image/png": "[encoded data removed]",
      "text/plain": [
       "<Figure size 432x288 with 1 Axes>"
      ]
     },
     "metadata": {
      "needs_background": "light"
     },
     "output_type": "display_data"
    }
   ],
   "source": [
    "for col in ds.drop(['index', 'area'], axis=1).select_dtypes(exclude='O').columns:\n",
    "    plt.figure()\n",
    "    sns.boxplot(x=ds[col])"
   ]
  },
  {
   "cell_type": "markdown",
   "id": "e68f5687",
   "metadata": {},
   "source": [
    "Выделение аномалий при расчете z-score:"
   ]
  },
  {
   "cell_type": "code",
   "execution_count": 20,
   "id": "a28ec5f6",
   "metadata": {},
   "outputs": [
    {
     "name": "stdout",
     "output_type": "stream",
     "text": [
      "Выбросы при расчете Z-scores:  [-40.0, 60.0]\n"
     ]
    }
   ],
   "source": [
    "def detect_outliers_zscore(data):\n",
    "    outliers = []\n",
    "    mean = np.mean(data) \n",
    "    std = np.std(data)\n",
    "    for i in data:\n",
    "        z_score = (i-mean)/std\n",
    "        if (np.abs(z_score) > 3):\n",
    "            outliers.append(i)\n",
    "    return outliers\n",
    "\n",
    "sample_outliers = detect_outliers_zscore(ds['T'])\n",
    "print(\"Выбросы при расчете Z-scores: \", sample_outliers)"
   ]
  },
  {
   "cell_type": "markdown",
   "id": "7966fc86",
   "metadata": {},
   "source": [
    "## Работа с выбросами"
   ]
  },
  {
   "cell_type": "code",
   "execution_count": 21,
   "id": "f6fcb0da",
   "metadata": {},
   "outputs": [],
   "source": [
    "ds_new = ds.copy()\n",
    "idx_outlier = np.where(ds['T'].isin(sample_outliers))[0] \n",
    "#ds_new = ds_new.drop(idx_outlier) # удалить образец с выбросами\n",
    "ds_new.loc[idx_outlier, 'T'] = ds_new['T'].median() # заполнение медианным значением"
   ]
  },
  {
   "cell_type": "code",
   "execution_count": 22,
   "id": "856683d3",
   "metadata": {},
   "outputs": [
    {
     "data": {
      "text/plain": [
       "[]"
      ]
     },
     "execution_count": 22,
     "metadata": {},
     "output_type": "execute_result"
    }
   ],
   "source": [
    "detect_outliers_zscore(ds_new['T'])"
   ]
  },
  {
   "cell_type": "code",
   "execution_count": 23,
   "id": "6cb3f5ca",
   "metadata": {},
   "outputs": [
    {
     "data": {
      "image/png": "[encoded data removed]",
      "text/plain": [
       "<Figure size 432x288 with 1 Axes>"
      ]
     },
     "metadata": {
      "needs_background": "light"
     },
     "output_type": "display_data"
    }
   ],
   "source": [
    "sns.boxplot(x=ds_new['T']);"
   ]
  },
  {
   "cell_type": "code",
   "execution_count": null,
   "id": "4aac706f",
   "metadata": {},
   "outputs": [],
   "source": []
  }
 ],
 "metadata": {
  "kernelspec": {
   "display_name": "Python 3",
   "language": "python",
   "name": "python3"
  },
  "language_info": {
   "codemirror_mode": {
    "name": "ipython",
    "version": 3
   },
   "file_extension": ".py",
   "mimetype": "text/x-python",
   "name": "python",
   "nbconvert_exporter": "python",
   "pygments_lexer": "ipython3",
   "version": "3.9.4"
  }
 },
 "nbformat": 4,
 "nbformat_minor": 5
}
